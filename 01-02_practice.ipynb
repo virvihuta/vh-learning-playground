{
 "cells": [
  {
   "cell_type": "code",
   "execution_count": 1,
   "id": "53395fcb",
   "metadata": {},
   "outputs": [],
   "source": [
    "import pandas as pd"
   ]
  },
  {
   "cell_type": "code",
   "execution_count": 2,
   "id": "50a3d31f",
   "metadata": {},
   "outputs": [],
   "source": [
    "df = pd.read_csv('datasets/diabetes_dataset.csv')"
   ]
  },
  {
   "cell_type": "code",
   "execution_count": 7,
   "id": "6966031e",
   "metadata": {},
   "outputs": [
    {
     "data": {
      "text/plain": [
       "(100000, 31)"
      ]
     },
     "execution_count": 7,
     "metadata": {},
     "output_type": "execute_result"
    }
   ],
   "source": [
    "df.shape"
   ]
  },
  {
   "cell_type": "code",
   "execution_count": 3,
   "id": "8b9bc03d",
   "metadata": {},
   "outputs": [
    {
     "data": {
      "text/html": [
       "<div>\n",
       "<style scoped>\n",
       "    .dataframe tbody tr th:only-of-type {\n",
       "        vertical-align: middle;\n",
       "    }\n",
       "\n",
       "    .dataframe tbody tr th {\n",
       "        vertical-align: top;\n",
       "    }\n",
       "\n",
       "    .dataframe thead th {\n",
       "        text-align: right;\n",
       "    }\n",
       "</style>\n",
       "<table border=\"1\" class=\"dataframe\">\n",
       "  <thead>\n",
       "    <tr style=\"text-align: right;\">\n",
       "      <th></th>\n",
       "      <th>age</th>\n",
       "      <th>gender</th>\n",
       "      <th>ethnicity</th>\n",
       "      <th>education_level</th>\n",
       "      <th>income_level</th>\n",
       "      <th>employment_status</th>\n",
       "      <th>smoking_status</th>\n",
       "      <th>alcohol_consumption_per_week</th>\n",
       "      <th>physical_activity_minutes_per_week</th>\n",
       "      <th>diet_score</th>\n",
       "      <th>...</th>\n",
       "      <th>hdl_cholesterol</th>\n",
       "      <th>ldl_cholesterol</th>\n",
       "      <th>triglycerides</th>\n",
       "      <th>glucose_fasting</th>\n",
       "      <th>glucose_postprandial</th>\n",
       "      <th>insulin_level</th>\n",
       "      <th>hba1c</th>\n",
       "      <th>diabetes_risk_score</th>\n",
       "      <th>diabetes_stage</th>\n",
       "      <th>diagnosed_diabetes</th>\n",
       "    </tr>\n",
       "  </thead>\n",
       "  <tbody>\n",
       "    <tr>\n",
       "      <th>0</th>\n",
       "      <td>58</td>\n",
       "      <td>Male</td>\n",
       "      <td>Asian</td>\n",
       "      <td>Highschool</td>\n",
       "      <td>Lower-Middle</td>\n",
       "      <td>Employed</td>\n",
       "      <td>Never</td>\n",
       "      <td>0</td>\n",
       "      <td>215</td>\n",
       "      <td>5.7</td>\n",
       "      <td>...</td>\n",
       "      <td>41</td>\n",
       "      <td>160</td>\n",
       "      <td>145</td>\n",
       "      <td>136</td>\n",
       "      <td>236</td>\n",
       "      <td>6.36</td>\n",
       "      <td>8.18</td>\n",
       "      <td>29.6</td>\n",
       "      <td>Type 2</td>\n",
       "      <td>1</td>\n",
       "    </tr>\n",
       "    <tr>\n",
       "      <th>1</th>\n",
       "      <td>48</td>\n",
       "      <td>Female</td>\n",
       "      <td>White</td>\n",
       "      <td>Highschool</td>\n",
       "      <td>Middle</td>\n",
       "      <td>Employed</td>\n",
       "      <td>Former</td>\n",
       "      <td>1</td>\n",
       "      <td>143</td>\n",
       "      <td>6.7</td>\n",
       "      <td>...</td>\n",
       "      <td>55</td>\n",
       "      <td>50</td>\n",
       "      <td>30</td>\n",
       "      <td>93</td>\n",
       "      <td>150</td>\n",
       "      <td>2.00</td>\n",
       "      <td>5.63</td>\n",
       "      <td>23.0</td>\n",
       "      <td>No Diabetes</td>\n",
       "      <td>0</td>\n",
       "    </tr>\n",
       "    <tr>\n",
       "      <th>2</th>\n",
       "      <td>60</td>\n",
       "      <td>Male</td>\n",
       "      <td>Hispanic</td>\n",
       "      <td>Highschool</td>\n",
       "      <td>Middle</td>\n",
       "      <td>Unemployed</td>\n",
       "      <td>Never</td>\n",
       "      <td>1</td>\n",
       "      <td>57</td>\n",
       "      <td>6.4</td>\n",
       "      <td>...</td>\n",
       "      <td>66</td>\n",
       "      <td>99</td>\n",
       "      <td>36</td>\n",
       "      <td>118</td>\n",
       "      <td>195</td>\n",
       "      <td>5.07</td>\n",
       "      <td>7.51</td>\n",
       "      <td>44.7</td>\n",
       "      <td>Type 2</td>\n",
       "      <td>1</td>\n",
       "    </tr>\n",
       "    <tr>\n",
       "      <th>3</th>\n",
       "      <td>74</td>\n",
       "      <td>Female</td>\n",
       "      <td>Black</td>\n",
       "      <td>Highschool</td>\n",
       "      <td>Low</td>\n",
       "      <td>Retired</td>\n",
       "      <td>Never</td>\n",
       "      <td>0</td>\n",
       "      <td>49</td>\n",
       "      <td>3.4</td>\n",
       "      <td>...</td>\n",
       "      <td>50</td>\n",
       "      <td>79</td>\n",
       "      <td>140</td>\n",
       "      <td>139</td>\n",
       "      <td>253</td>\n",
       "      <td>5.28</td>\n",
       "      <td>9.03</td>\n",
       "      <td>38.2</td>\n",
       "      <td>Type 2</td>\n",
       "      <td>1</td>\n",
       "    </tr>\n",
       "    <tr>\n",
       "      <th>4</th>\n",
       "      <td>46</td>\n",
       "      <td>Male</td>\n",
       "      <td>White</td>\n",
       "      <td>Graduate</td>\n",
       "      <td>Middle</td>\n",
       "      <td>Retired</td>\n",
       "      <td>Never</td>\n",
       "      <td>1</td>\n",
       "      <td>109</td>\n",
       "      <td>7.2</td>\n",
       "      <td>...</td>\n",
       "      <td>52</td>\n",
       "      <td>125</td>\n",
       "      <td>160</td>\n",
       "      <td>137</td>\n",
       "      <td>184</td>\n",
       "      <td>12.74</td>\n",
       "      <td>7.20</td>\n",
       "      <td>23.5</td>\n",
       "      <td>Type 2</td>\n",
       "      <td>1</td>\n",
       "    </tr>\n",
       "  </tbody>\n",
       "</table>\n",
       "<p>5 rows × 31 columns</p>\n",
       "</div>"
      ],
      "text/plain": [
       "   age  gender ethnicity education_level  income_level employment_status  \\\n",
       "0   58    Male     Asian      Highschool  Lower-Middle          Employed   \n",
       "1   48  Female     White      Highschool        Middle          Employed   \n",
       "2   60    Male  Hispanic      Highschool        Middle        Unemployed   \n",
       "3   74  Female     Black      Highschool           Low           Retired   \n",
       "4   46    Male     White        Graduate        Middle           Retired   \n",
       "\n",
       "  smoking_status  alcohol_consumption_per_week  \\\n",
       "0          Never                             0   \n",
       "1         Former                             1   \n",
       "2          Never                             1   \n",
       "3          Never                             0   \n",
       "4          Never                             1   \n",
       "\n",
       "   physical_activity_minutes_per_week  diet_score  ...  hdl_cholesterol  \\\n",
       "0                                 215         5.7  ...               41   \n",
       "1                                 143         6.7  ...               55   \n",
       "2                                  57         6.4  ...               66   \n",
       "3                                  49         3.4  ...               50   \n",
       "4                                 109         7.2  ...               52   \n",
       "\n",
       "   ldl_cholesterol  triglycerides  glucose_fasting  glucose_postprandial  \\\n",
       "0              160            145              136                   236   \n",
       "1               50             30               93                   150   \n",
       "2               99             36              118                   195   \n",
       "3               79            140              139                   253   \n",
       "4              125            160              137                   184   \n",
       "\n",
       "   insulin_level  hba1c  diabetes_risk_score  diabetes_stage  \\\n",
       "0           6.36   8.18                 29.6          Type 2   \n",
       "1           2.00   5.63                 23.0     No Diabetes   \n",
       "2           5.07   7.51                 44.7          Type 2   \n",
       "3           5.28   9.03                 38.2          Type 2   \n",
       "4          12.74   7.20                 23.5          Type 2   \n",
       "\n",
       "   diagnosed_diabetes  \n",
       "0                   1  \n",
       "1                   0  \n",
       "2                   1  \n",
       "3                   1  \n",
       "4                   1  \n",
       "\n",
       "[5 rows x 31 columns]"
      ]
     },
     "execution_count": 3,
     "metadata": {},
     "output_type": "execute_result"
    }
   ],
   "source": [
    "df.head()"
   ]
  },
  {
   "cell_type": "code",
   "execution_count": 16,
   "id": "d8b01851",
   "metadata": {},
   "outputs": [
    {
     "data": {
      "text/plain": [
       "Index(['age', 'gender', 'ethnicity', 'education_level', 'income_level',\n",
       "       'employment_status', 'smoking_status', 'alcohol_consumption_per_week',\n",
       "       'physical_activity_minutes_per_week', 'diet_score',\n",
       "       'sleep_hours_per_day', 'screen_time_hours_per_day',\n",
       "       'family_history_diabetes', 'hypertension_history',\n",
       "       'cardiovascular_history', 'bmi', 'waist_to_hip_ratio', 'systolic_bp',\n",
       "       'diastolic_bp', 'heart_rate', 'cholesterol_total', 'hdl_cholesterol',\n",
       "       'ldl_cholesterol', 'triglycerides', 'glucose_fasting',\n",
       "       'glucose_postprandial', 'insulin_level', 'hba1c', 'diabetes_risk_score',\n",
       "       'diabetes_stage', 'diagnosed_diabetes'],\n",
       "      dtype='object')"
      ]
     },
     "execution_count": 16,
     "metadata": {},
     "output_type": "execute_result"
    }
   ],
   "source": [
    "df.columns"
   ]
  },
  {
   "cell_type": "code",
   "execution_count": 5,
   "id": "5ccb0b28",
   "metadata": {},
   "outputs": [
    {
     "name": "stdout",
     "output_type": "stream",
     "text": [
      "<class 'pandas.core.frame.DataFrame'>\n",
      "RangeIndex: 100000 entries, 0 to 99999\n",
      "Data columns (total 31 columns):\n",
      " #   Column                              Non-Null Count   Dtype  \n",
      "---  ------                              --------------   -----  \n",
      " 0   age                                 100000 non-null  int64  \n",
      " 1   gender                              100000 non-null  object \n",
      " 2   ethnicity                           100000 non-null  object \n",
      " 3   education_level                     100000 non-null  object \n",
      " 4   income_level                        100000 non-null  object \n",
      " 5   employment_status                   100000 non-null  object \n",
      " 6   smoking_status                      100000 non-null  object \n",
      " 7   alcohol_consumption_per_week        100000 non-null  int64  \n",
      " 8   physical_activity_minutes_per_week  100000 non-null  int64  \n",
      " 9   diet_score                          100000 non-null  float64\n",
      " 10  sleep_hours_per_day                 100000 non-null  float64\n",
      " 11  screen_time_hours_per_day           100000 non-null  float64\n",
      " 12  family_history_diabetes             100000 non-null  int64  \n",
      " 13  hypertension_history                100000 non-null  int64  \n",
      " 14  cardiovascular_history              100000 non-null  int64  \n",
      " 15  bmi                                 100000 non-null  float64\n",
      " 16  waist_to_hip_ratio                  100000 non-null  float64\n",
      " 17  systolic_bp                         100000 non-null  int64  \n",
      " 18  diastolic_bp                        100000 non-null  int64  \n",
      " 19  heart_rate                          100000 non-null  int64  \n",
      " 20  cholesterol_total                   100000 non-null  int64  \n",
      " 21  hdl_cholesterol                     100000 non-null  int64  \n",
      " 22  ldl_cholesterol                     100000 non-null  int64  \n",
      " 23  triglycerides                       100000 non-null  int64  \n",
      " 24  glucose_fasting                     100000 non-null  int64  \n",
      " 25  glucose_postprandial                100000 non-null  int64  \n",
      " 26  insulin_level                       100000 non-null  float64\n",
      " 27  hba1c                               100000 non-null  float64\n",
      " 28  diabetes_risk_score                 100000 non-null  float64\n",
      " 29  diabetes_stage                      100000 non-null  object \n",
      " 30  diagnosed_diabetes                  100000 non-null  int64  \n",
      "dtypes: float64(8), int64(16), object(7)\n",
      "memory usage: 23.7+ MB\n"
     ]
    }
   ],
   "source": [
    "df.info()"
   ]
  },
  {
   "cell_type": "code",
   "execution_count": 6,
   "id": "72f07be2",
   "metadata": {},
   "outputs": [
    {
     "data": {
      "text/html": [
       "<div>\n",
       "<style scoped>\n",
       "    .dataframe tbody tr th:only-of-type {\n",
       "        vertical-align: middle;\n",
       "    }\n",
       "\n",
       "    .dataframe tbody tr th {\n",
       "        vertical-align: top;\n",
       "    }\n",
       "\n",
       "    .dataframe thead th {\n",
       "        text-align: right;\n",
       "    }\n",
       "</style>\n",
       "<table border=\"1\" class=\"dataframe\">\n",
       "  <thead>\n",
       "    <tr style=\"text-align: right;\">\n",
       "      <th></th>\n",
       "      <th>age</th>\n",
       "      <th>alcohol_consumption_per_week</th>\n",
       "      <th>physical_activity_minutes_per_week</th>\n",
       "      <th>diet_score</th>\n",
       "      <th>sleep_hours_per_day</th>\n",
       "      <th>screen_time_hours_per_day</th>\n",
       "      <th>family_history_diabetes</th>\n",
       "      <th>hypertension_history</th>\n",
       "      <th>cardiovascular_history</th>\n",
       "      <th>bmi</th>\n",
       "      <th>...</th>\n",
       "      <th>cholesterol_total</th>\n",
       "      <th>hdl_cholesterol</th>\n",
       "      <th>ldl_cholesterol</th>\n",
       "      <th>triglycerides</th>\n",
       "      <th>glucose_fasting</th>\n",
       "      <th>glucose_postprandial</th>\n",
       "      <th>insulin_level</th>\n",
       "      <th>hba1c</th>\n",
       "      <th>diabetes_risk_score</th>\n",
       "      <th>diagnosed_diabetes</th>\n",
       "    </tr>\n",
       "  </thead>\n",
       "  <tbody>\n",
       "    <tr>\n",
       "      <th>count</th>\n",
       "      <td>100000.00000</td>\n",
       "      <td>100000.000000</td>\n",
       "      <td>100000.000000</td>\n",
       "      <td>100000.000000</td>\n",
       "      <td>100000.000000</td>\n",
       "      <td>100000.000000</td>\n",
       "      <td>100000.000000</td>\n",
       "      <td>100000.000000</td>\n",
       "      <td>100000.000000</td>\n",
       "      <td>100000.000000</td>\n",
       "      <td>...</td>\n",
       "      <td>100000.000000</td>\n",
       "      <td>100000.000000</td>\n",
       "      <td>100000.000000</td>\n",
       "      <td>100000.000000</td>\n",
       "      <td>100000.00000</td>\n",
       "      <td>100000.000000</td>\n",
       "      <td>100000.000000</td>\n",
       "      <td>100000.000000</td>\n",
       "      <td>100000.000000</td>\n",
       "      <td>100000.000000</td>\n",
       "    </tr>\n",
       "    <tr>\n",
       "      <th>mean</th>\n",
       "      <td>50.12041</td>\n",
       "      <td>2.003670</td>\n",
       "      <td>118.911640</td>\n",
       "      <td>5.994787</td>\n",
       "      <td>6.997818</td>\n",
       "      <td>5.996468</td>\n",
       "      <td>0.219410</td>\n",
       "      <td>0.250800</td>\n",
       "      <td>0.079200</td>\n",
       "      <td>25.612653</td>\n",
       "      <td>...</td>\n",
       "      <td>185.978110</td>\n",
       "      <td>54.042790</td>\n",
       "      <td>103.000430</td>\n",
       "      <td>121.462650</td>\n",
       "      <td>111.11712</td>\n",
       "      <td>160.035050</td>\n",
       "      <td>9.061242</td>\n",
       "      <td>6.520776</td>\n",
       "      <td>30.222362</td>\n",
       "      <td>0.599980</td>\n",
       "    </tr>\n",
       "    <tr>\n",
       "      <th>std</th>\n",
       "      <td>15.60460</td>\n",
       "      <td>1.417779</td>\n",
       "      <td>84.409662</td>\n",
       "      <td>1.780954</td>\n",
       "      <td>1.094622</td>\n",
       "      <td>2.468406</td>\n",
       "      <td>0.413849</td>\n",
       "      <td>0.433476</td>\n",
       "      <td>0.270052</td>\n",
       "      <td>3.586705</td>\n",
       "      <td>...</td>\n",
       "      <td>32.013005</td>\n",
       "      <td>10.267374</td>\n",
       "      <td>33.390256</td>\n",
       "      <td>43.372619</td>\n",
       "      <td>13.59561</td>\n",
       "      <td>30.935472</td>\n",
       "      <td>4.954060</td>\n",
       "      <td>0.813921</td>\n",
       "      <td>9.061505</td>\n",
       "      <td>0.489904</td>\n",
       "    </tr>\n",
       "    <tr>\n",
       "      <th>min</th>\n",
       "      <td>18.00000</td>\n",
       "      <td>0.000000</td>\n",
       "      <td>0.000000</td>\n",
       "      <td>0.000000</td>\n",
       "      <td>3.000000</td>\n",
       "      <td>0.500000</td>\n",
       "      <td>0.000000</td>\n",
       "      <td>0.000000</td>\n",
       "      <td>0.000000</td>\n",
       "      <td>15.000000</td>\n",
       "      <td>...</td>\n",
       "      <td>100.000000</td>\n",
       "      <td>20.000000</td>\n",
       "      <td>50.000000</td>\n",
       "      <td>30.000000</td>\n",
       "      <td>60.00000</td>\n",
       "      <td>70.000000</td>\n",
       "      <td>2.000000</td>\n",
       "      <td>4.000000</td>\n",
       "      <td>2.700000</td>\n",
       "      <td>0.000000</td>\n",
       "    </tr>\n",
       "    <tr>\n",
       "      <th>25%</th>\n",
       "      <td>39.00000</td>\n",
       "      <td>1.000000</td>\n",
       "      <td>57.000000</td>\n",
       "      <td>4.800000</td>\n",
       "      <td>6.300000</td>\n",
       "      <td>4.300000</td>\n",
       "      <td>0.000000</td>\n",
       "      <td>0.000000</td>\n",
       "      <td>0.000000</td>\n",
       "      <td>23.200000</td>\n",
       "      <td>...</td>\n",
       "      <td>164.000000</td>\n",
       "      <td>47.000000</td>\n",
       "      <td>78.000000</td>\n",
       "      <td>91.000000</td>\n",
       "      <td>102.00000</td>\n",
       "      <td>139.000000</td>\n",
       "      <td>5.090000</td>\n",
       "      <td>5.970000</td>\n",
       "      <td>23.800000</td>\n",
       "      <td>0.000000</td>\n",
       "    </tr>\n",
       "    <tr>\n",
       "      <th>50%</th>\n",
       "      <td>50.00000</td>\n",
       "      <td>2.000000</td>\n",
       "      <td>100.000000</td>\n",
       "      <td>6.000000</td>\n",
       "      <td>7.000000</td>\n",
       "      <td>6.000000</td>\n",
       "      <td>0.000000</td>\n",
       "      <td>0.000000</td>\n",
       "      <td>0.000000</td>\n",
       "      <td>25.600000</td>\n",
       "      <td>...</td>\n",
       "      <td>186.000000</td>\n",
       "      <td>54.000000</td>\n",
       "      <td>102.000000</td>\n",
       "      <td>121.000000</td>\n",
       "      <td>111.00000</td>\n",
       "      <td>160.000000</td>\n",
       "      <td>8.790000</td>\n",
       "      <td>6.520000</td>\n",
       "      <td>29.000000</td>\n",
       "      <td>1.000000</td>\n",
       "    </tr>\n",
       "    <tr>\n",
       "      <th>75%</th>\n",
       "      <td>61.00000</td>\n",
       "      <td>3.000000</td>\n",
       "      <td>160.000000</td>\n",
       "      <td>7.200000</td>\n",
       "      <td>7.700000</td>\n",
       "      <td>7.700000</td>\n",
       "      <td>0.000000</td>\n",
       "      <td>1.000000</td>\n",
       "      <td>0.000000</td>\n",
       "      <td>28.000000</td>\n",
       "      <td>...</td>\n",
       "      <td>208.000000</td>\n",
       "      <td>61.000000</td>\n",
       "      <td>126.000000</td>\n",
       "      <td>151.000000</td>\n",
       "      <td>120.00000</td>\n",
       "      <td>181.000000</td>\n",
       "      <td>12.450000</td>\n",
       "      <td>7.070000</td>\n",
       "      <td>35.600000</td>\n",
       "      <td>1.000000</td>\n",
       "    </tr>\n",
       "    <tr>\n",
       "      <th>max</th>\n",
       "      <td>90.00000</td>\n",
       "      <td>10.000000</td>\n",
       "      <td>833.000000</td>\n",
       "      <td>10.000000</td>\n",
       "      <td>10.000000</td>\n",
       "      <td>16.800000</td>\n",
       "      <td>1.000000</td>\n",
       "      <td>1.000000</td>\n",
       "      <td>1.000000</td>\n",
       "      <td>39.200000</td>\n",
       "      <td>...</td>\n",
       "      <td>318.000000</td>\n",
       "      <td>98.000000</td>\n",
       "      <td>263.000000</td>\n",
       "      <td>344.000000</td>\n",
       "      <td>172.00000</td>\n",
       "      <td>287.000000</td>\n",
       "      <td>32.220000</td>\n",
       "      <td>9.800000</td>\n",
       "      <td>67.200000</td>\n",
       "      <td>1.000000</td>\n",
       "    </tr>\n",
       "  </tbody>\n",
       "</table>\n",
       "<p>8 rows × 24 columns</p>\n",
       "</div>"
      ],
      "text/plain": [
       "                age  alcohol_consumption_per_week  \\\n",
       "count  100000.00000                 100000.000000   \n",
       "mean       50.12041                      2.003670   \n",
       "std        15.60460                      1.417779   \n",
       "min        18.00000                      0.000000   \n",
       "25%        39.00000                      1.000000   \n",
       "50%        50.00000                      2.000000   \n",
       "75%        61.00000                      3.000000   \n",
       "max        90.00000                     10.000000   \n",
       "\n",
       "       physical_activity_minutes_per_week     diet_score  sleep_hours_per_day  \\\n",
       "count                       100000.000000  100000.000000        100000.000000   \n",
       "mean                           118.911640       5.994787             6.997818   \n",
       "std                             84.409662       1.780954             1.094622   \n",
       "min                              0.000000       0.000000             3.000000   \n",
       "25%                             57.000000       4.800000             6.300000   \n",
       "50%                            100.000000       6.000000             7.000000   \n",
       "75%                            160.000000       7.200000             7.700000   \n",
       "max                            833.000000      10.000000            10.000000   \n",
       "\n",
       "       screen_time_hours_per_day  family_history_diabetes  \\\n",
       "count              100000.000000            100000.000000   \n",
       "mean                    5.996468                 0.219410   \n",
       "std                     2.468406                 0.413849   \n",
       "min                     0.500000                 0.000000   \n",
       "25%                     4.300000                 0.000000   \n",
       "50%                     6.000000                 0.000000   \n",
       "75%                     7.700000                 0.000000   \n",
       "max                    16.800000                 1.000000   \n",
       "\n",
       "       hypertension_history  cardiovascular_history            bmi  ...  \\\n",
       "count         100000.000000           100000.000000  100000.000000  ...   \n",
       "mean               0.250800                0.079200      25.612653  ...   \n",
       "std                0.433476                0.270052       3.586705  ...   \n",
       "min                0.000000                0.000000      15.000000  ...   \n",
       "25%                0.000000                0.000000      23.200000  ...   \n",
       "50%                0.000000                0.000000      25.600000  ...   \n",
       "75%                1.000000                0.000000      28.000000  ...   \n",
       "max                1.000000                1.000000      39.200000  ...   \n",
       "\n",
       "       cholesterol_total  hdl_cholesterol  ldl_cholesterol  triglycerides  \\\n",
       "count      100000.000000    100000.000000    100000.000000  100000.000000   \n",
       "mean          185.978110        54.042790       103.000430     121.462650   \n",
       "std            32.013005        10.267374        33.390256      43.372619   \n",
       "min           100.000000        20.000000        50.000000      30.000000   \n",
       "25%           164.000000        47.000000        78.000000      91.000000   \n",
       "50%           186.000000        54.000000       102.000000     121.000000   \n",
       "75%           208.000000        61.000000       126.000000     151.000000   \n",
       "max           318.000000        98.000000       263.000000     344.000000   \n",
       "\n",
       "       glucose_fasting  glucose_postprandial  insulin_level          hba1c  \\\n",
       "count     100000.00000         100000.000000  100000.000000  100000.000000   \n",
       "mean         111.11712            160.035050       9.061242       6.520776   \n",
       "std           13.59561             30.935472       4.954060       0.813921   \n",
       "min           60.00000             70.000000       2.000000       4.000000   \n",
       "25%          102.00000            139.000000       5.090000       5.970000   \n",
       "50%          111.00000            160.000000       8.790000       6.520000   \n",
       "75%          120.00000            181.000000      12.450000       7.070000   \n",
       "max          172.00000            287.000000      32.220000       9.800000   \n",
       "\n",
       "       diabetes_risk_score  diagnosed_diabetes  \n",
       "count        100000.000000       100000.000000  \n",
       "mean             30.222362            0.599980  \n",
       "std               9.061505            0.489904  \n",
       "min               2.700000            0.000000  \n",
       "25%              23.800000            0.000000  \n",
       "50%              29.000000            1.000000  \n",
       "75%              35.600000            1.000000  \n",
       "max              67.200000            1.000000  \n",
       "\n",
       "[8 rows x 24 columns]"
      ]
     },
     "execution_count": 6,
     "metadata": {},
     "output_type": "execute_result"
    }
   ],
   "source": [
    "df.describe()"
   ]
  },
  {
   "cell_type": "code",
   "execution_count": 9,
   "id": "3e137be1",
   "metadata": {},
   "outputs": [
    {
     "data": {
      "text/plain": [
       "age                                   0\n",
       "gender                                0\n",
       "ethnicity                             0\n",
       "education_level                       0\n",
       "income_level                          0\n",
       "employment_status                     0\n",
       "smoking_status                        0\n",
       "alcohol_consumption_per_week          0\n",
       "physical_activity_minutes_per_week    0\n",
       "diet_score                            0\n",
       "sleep_hours_per_day                   0\n",
       "screen_time_hours_per_day             0\n",
       "family_history_diabetes               0\n",
       "hypertension_history                  0\n",
       "cardiovascular_history                0\n",
       "bmi                                   0\n",
       "waist_to_hip_ratio                    0\n",
       "systolic_bp                           0\n",
       "diastolic_bp                          0\n",
       "heart_rate                            0\n",
       "cholesterol_total                     0\n",
       "hdl_cholesterol                       0\n",
       "ldl_cholesterol                       0\n",
       "triglycerides                         0\n",
       "glucose_fasting                       0\n",
       "glucose_postprandial                  0\n",
       "insulin_level                         0\n",
       "hba1c                                 0\n",
       "diabetes_risk_score                   0\n",
       "diabetes_stage                        0\n",
       "diagnosed_diabetes                    0\n",
       "dtype: int64"
      ]
     },
     "execution_count": 9,
     "metadata": {},
     "output_type": "execute_result"
    }
   ],
   "source": [
    "df.isna().sum()"
   ]
  },
  {
   "cell_type": "code",
   "execution_count": 10,
   "id": "b3eb1e2b",
   "metadata": {},
   "outputs": [
    {
     "data": {
      "text/plain": [
       "np.int64(0)"
      ]
     },
     "execution_count": 10,
     "metadata": {},
     "output_type": "execute_result"
    }
   ],
   "source": [
    "df.duplicated().sum()"
   ]
  },
  {
   "cell_type": "code",
   "execution_count": 18,
   "id": "beb53c35",
   "metadata": {},
   "outputs": [
    {
     "name": "stdout",
     "output_type": "stream",
     "text": [
      "Index(['gender', 'ethnicity', 'education_level', 'income_level',\n",
      "       'employment_status', 'smoking_status', 'diabetes_stage'],\n",
      "      dtype='object')\n"
     ]
    }
   ],
   "source": [
    "non_num_cols = df.select_dtypes(exclude=['int64', 'float64', 'float32', 'int32'])\n",
    "print(non_num_cols.columns)"
   ]
  },
  {
   "cell_type": "code",
   "execution_count": 11,
   "id": "95e7a84a",
   "metadata": {},
   "outputs": [
    {
     "data": {
      "text/plain": [
       "array(['Male', 'Female', 'Other'], dtype=object)"
      ]
     },
     "execution_count": 11,
     "metadata": {},
     "output_type": "execute_result"
    }
   ],
   "source": [
    "df['gender'].unique()"
   ]
  },
  {
   "cell_type": "code",
   "execution_count": 12,
   "id": "ab5e7b2e",
   "metadata": {},
   "outputs": [
    {
     "data": {
      "text/plain": [
       "array(['Asian', 'White', 'Hispanic', 'Black', 'Other'], dtype=object)"
      ]
     },
     "execution_count": 12,
     "metadata": {},
     "output_type": "execute_result"
    }
   ],
   "source": [
    "df['ethnicity'].unique()"
   ]
  },
  {
   "cell_type": "code",
   "execution_count": 13,
   "id": "62cf2f28",
   "metadata": {},
   "outputs": [
    {
     "data": {
      "text/plain": [
       "array(['Highschool', 'Graduate', 'Postgraduate', 'No formal'],\n",
       "      dtype=object)"
      ]
     },
     "execution_count": 13,
     "metadata": {},
     "output_type": "execute_result"
    }
   ],
   "source": [
    "df['education_level'].unique()"
   ]
  },
  {
   "cell_type": "code",
   "execution_count": 14,
   "id": "df5c34d9",
   "metadata": {},
   "outputs": [
    {
     "data": {
      "text/plain": [
       "array(['Lower-Middle', 'Middle', 'Low', 'Upper-Middle', 'High'],\n",
       "      dtype=object)"
      ]
     },
     "execution_count": 14,
     "metadata": {},
     "output_type": "execute_result"
    }
   ],
   "source": [
    "df['income_level'].unique()"
   ]
  },
  {
   "cell_type": "code",
   "execution_count": 15,
   "id": "2a63c0c0",
   "metadata": {},
   "outputs": [
    {
     "data": {
      "text/plain": [
       "array(['Employed', 'Unemployed', 'Retired', 'Student'], dtype=object)"
      ]
     },
     "execution_count": 15,
     "metadata": {},
     "output_type": "execute_result"
    }
   ],
   "source": [
    "df['employment_status'].unique()"
   ]
  },
  {
   "cell_type": "code",
   "execution_count": 17,
   "id": "9a7f3818",
   "metadata": {},
   "outputs": [
    {
     "data": {
      "text/plain": [
       "array(['Never', 'Former', 'Current'], dtype=object)"
      ]
     },
     "execution_count": 17,
     "metadata": {},
     "output_type": "execute_result"
    }
   ],
   "source": [
    "df['smoking_status'].unique()"
   ]
  },
  {
   "cell_type": "code",
   "execution_count": 19,
   "id": "d3fd3e86",
   "metadata": {},
   "outputs": [
    {
     "data": {
      "text/plain": [
       "array(['Type 2', 'No Diabetes', 'Pre-Diabetes', 'Gestational', 'Type 1'],\n",
       "      dtype=object)"
      ]
     },
     "execution_count": 19,
     "metadata": {},
     "output_type": "execute_result"
    }
   ],
   "source": [
    "df['diabetes_stage'].unique()"
   ]
  },
  {
   "cell_type": "code",
   "execution_count": 20,
   "id": "fa3a9d82",
   "metadata": {},
   "outputs": [
    {
     "data": {
      "text/plain": [
       "array([1, 0])"
      ]
     },
     "execution_count": 20,
     "metadata": {},
     "output_type": "execute_result"
    }
   ],
   "source": [
    "df['diagnosed_diabetes'].unique()"
   ]
  },
  {
   "cell_type": "code",
   "execution_count": 24,
   "id": "2874905a",
   "metadata": {},
   "outputs": [],
   "source": [
    "target = 'diagnosed_diabetes'"
   ]
  },
  {
   "cell_type": "code",
   "execution_count": 25,
   "id": "a76d142a",
   "metadata": {},
   "outputs": [],
   "source": [
    "num_df = df.select_dtypes(include=['int', 'float'])"
   ]
  },
  {
   "cell_type": "code",
   "execution_count": 26,
   "id": "81151b8e",
   "metadata": {},
   "outputs": [
    {
     "name": "stdout",
     "output_type": "stream",
     "text": [
      "diagnosed_diabetes                    1.000000\n",
      "hba1c                                 0.679397\n",
      "glucose_postprandial                  0.629832\n",
      "glucose_fasting                       0.510919\n",
      "diabetes_risk_score                   0.277300\n",
      "family_history_diabetes               0.197926\n",
      "age                                   0.137713\n",
      "bmi                                   0.097057\n",
      "systolic_bp                           0.095481\n",
      "waist_to_hip_ratio                    0.078918\n",
      "ldl_cholesterol                       0.067475\n",
      "cholesterol_total                     0.058173\n",
      "insulin_level                         0.057715\n",
      "triglycerides                         0.056230\n",
      "diastolic_bp                          0.035619\n",
      "cardiovascular_history                0.029793\n",
      "hypertension_history                  0.027524\n",
      "heart_rate                            0.022785\n",
      "screen_time_hours_per_day             0.018127\n",
      "alcohol_consumption_per_week          0.000760\n",
      "sleep_hours_per_day                  -0.000399\n",
      "diet_score                           -0.044298\n",
      "hdl_cholesterol                      -0.051227\n",
      "physical_activity_minutes_per_week   -0.100774\n",
      "Name: diagnosed_diabetes, dtype: float64\n"
     ]
    }
   ],
   "source": [
    "corr_with_target = num_df.corr()[target].sort_values(ascending=False)\n",
    "print(corr_with_target)"
   ]
  },
  {
   "cell_type": "code",
   "execution_count": 28,
   "id": "6b1880e9",
   "metadata": {},
   "outputs": [
    {
     "data": {
      "text/html": [
       "<div>\n",
       "<style scoped>\n",
       "    .dataframe tbody tr th:only-of-type {\n",
       "        vertical-align: middle;\n",
       "    }\n",
       "\n",
       "    .dataframe tbody tr th {\n",
       "        vertical-align: top;\n",
       "    }\n",
       "\n",
       "    .dataframe thead th {\n",
       "        text-align: right;\n",
       "    }\n",
       "</style>\n",
       "<table border=\"1\" class=\"dataframe\">\n",
       "  <thead>\n",
       "    <tr style=\"text-align: right;\">\n",
       "      <th></th>\n",
       "      <th>Feature</th>\n",
       "      <th>Correlation</th>\n",
       "    </tr>\n",
       "  </thead>\n",
       "  <tbody>\n",
       "    <tr>\n",
       "      <th>0</th>\n",
       "      <td>diagnosed_diabetes</td>\n",
       "      <td>1.000000</td>\n",
       "    </tr>\n",
       "    <tr>\n",
       "      <th>1</th>\n",
       "      <td>hba1c</td>\n",
       "      <td>0.679397</td>\n",
       "    </tr>\n",
       "    <tr>\n",
       "      <th>2</th>\n",
       "      <td>glucose_postprandial</td>\n",
       "      <td>0.629832</td>\n",
       "    </tr>\n",
       "    <tr>\n",
       "      <th>3</th>\n",
       "      <td>glucose_fasting</td>\n",
       "      <td>0.510919</td>\n",
       "    </tr>\n",
       "    <tr>\n",
       "      <th>4</th>\n",
       "      <td>diabetes_risk_score</td>\n",
       "      <td>0.277300</td>\n",
       "    </tr>\n",
       "    <tr>\n",
       "      <th>5</th>\n",
       "      <td>family_history_diabetes</td>\n",
       "      <td>0.197926</td>\n",
       "    </tr>\n",
       "    <tr>\n",
       "      <th>6</th>\n",
       "      <td>age</td>\n",
       "      <td>0.137713</td>\n",
       "    </tr>\n",
       "    <tr>\n",
       "      <th>7</th>\n",
       "      <td>bmi</td>\n",
       "      <td>0.097057</td>\n",
       "    </tr>\n",
       "    <tr>\n",
       "      <th>8</th>\n",
       "      <td>systolic_bp</td>\n",
       "      <td>0.095481</td>\n",
       "    </tr>\n",
       "    <tr>\n",
       "      <th>9</th>\n",
       "      <td>waist_to_hip_ratio</td>\n",
       "      <td>0.078918</td>\n",
       "    </tr>\n",
       "    <tr>\n",
       "      <th>10</th>\n",
       "      <td>ldl_cholesterol</td>\n",
       "      <td>0.067475</td>\n",
       "    </tr>\n",
       "    <tr>\n",
       "      <th>11</th>\n",
       "      <td>cholesterol_total</td>\n",
       "      <td>0.058173</td>\n",
       "    </tr>\n",
       "    <tr>\n",
       "      <th>12</th>\n",
       "      <td>insulin_level</td>\n",
       "      <td>0.057715</td>\n",
       "    </tr>\n",
       "    <tr>\n",
       "      <th>13</th>\n",
       "      <td>triglycerides</td>\n",
       "      <td>0.056230</td>\n",
       "    </tr>\n",
       "    <tr>\n",
       "      <th>14</th>\n",
       "      <td>diastolic_bp</td>\n",
       "      <td>0.035619</td>\n",
       "    </tr>\n",
       "    <tr>\n",
       "      <th>15</th>\n",
       "      <td>cardiovascular_history</td>\n",
       "      <td>0.029793</td>\n",
       "    </tr>\n",
       "    <tr>\n",
       "      <th>16</th>\n",
       "      <td>hypertension_history</td>\n",
       "      <td>0.027524</td>\n",
       "    </tr>\n",
       "    <tr>\n",
       "      <th>17</th>\n",
       "      <td>heart_rate</td>\n",
       "      <td>0.022785</td>\n",
       "    </tr>\n",
       "    <tr>\n",
       "      <th>18</th>\n",
       "      <td>screen_time_hours_per_day</td>\n",
       "      <td>0.018127</td>\n",
       "    </tr>\n",
       "    <tr>\n",
       "      <th>19</th>\n",
       "      <td>alcohol_consumption_per_week</td>\n",
       "      <td>0.000760</td>\n",
       "    </tr>\n",
       "    <tr>\n",
       "      <th>20</th>\n",
       "      <td>sleep_hours_per_day</td>\n",
       "      <td>-0.000399</td>\n",
       "    </tr>\n",
       "    <tr>\n",
       "      <th>21</th>\n",
       "      <td>diet_score</td>\n",
       "      <td>-0.044298</td>\n",
       "    </tr>\n",
       "    <tr>\n",
       "      <th>22</th>\n",
       "      <td>hdl_cholesterol</td>\n",
       "      <td>-0.051227</td>\n",
       "    </tr>\n",
       "    <tr>\n",
       "      <th>23</th>\n",
       "      <td>physical_activity_minutes_per_week</td>\n",
       "      <td>-0.100774</td>\n",
       "    </tr>\n",
       "  </tbody>\n",
       "</table>\n",
       "</div>"
      ],
      "text/plain": [
       "                               Feature  Correlation\n",
       "0                   diagnosed_diabetes     1.000000\n",
       "1                                hba1c     0.679397\n",
       "2                 glucose_postprandial     0.629832\n",
       "3                      glucose_fasting     0.510919\n",
       "4                  diabetes_risk_score     0.277300\n",
       "5              family_history_diabetes     0.197926\n",
       "6                                  age     0.137713\n",
       "7                                  bmi     0.097057\n",
       "8                          systolic_bp     0.095481\n",
       "9                   waist_to_hip_ratio     0.078918\n",
       "10                     ldl_cholesterol     0.067475\n",
       "11                   cholesterol_total     0.058173\n",
       "12                       insulin_level     0.057715\n",
       "13                       triglycerides     0.056230\n",
       "14                        diastolic_bp     0.035619\n",
       "15              cardiovascular_history     0.029793\n",
       "16                hypertension_history     0.027524\n",
       "17                          heart_rate     0.022785\n",
       "18           screen_time_hours_per_day     0.018127\n",
       "19        alcohol_consumption_per_week     0.000760\n",
       "20                 sleep_hours_per_day    -0.000399\n",
       "21                          diet_score    -0.044298\n",
       "22                     hdl_cholesterol    -0.051227\n",
       "23  physical_activity_minutes_per_week    -0.100774"
      ]
     },
     "execution_count": 28,
     "metadata": {},
     "output_type": "execute_result"
    }
   ],
   "source": [
    "corr_df = corr_with_target.to_frame().reset_index()\n",
    "corr_df.columns = ['Feature', 'Correlation']\n",
    "corr_df"
   ]
  },
  {
   "cell_type": "code",
   "execution_count": 32,
   "id": "2bcc6922",
   "metadata": {},
   "outputs": [
    {
     "name": "stderr",
     "output_type": "stream",
     "text": [
      "/var/folders/_2/_yhjp4h153l3658w2fh53v580000gn/T/ipykernel_18558/265885972.py:5: FutureWarning: \n",
      "\n",
      "Passing `palette` without assigning `hue` is deprecated and will be removed in v0.14.0. Assign the `y` variable to `hue` and set `legend=False` for the same effect.\n",
      "\n",
      "  sns.barplot(x='Correlation', y='Feature', data=corr_df, palette='coolwarm', legend=False)\n"
     ]
    },
    {
     "data": {
      "image/png": "[encoded data removed]",
      "text/plain": [
       "<Figure size 1000x600 with 1 Axes>"
      ]
     },
     "metadata": {},
     "output_type": "display_data"
    }
   ],
   "source": [
    "import seaborn as sns\n",
    "import matplotlib.pyplot as plt\n",
    "\n",
    "plt.figure(figsize=(10,6))\n",
    "sns.barplot(x='Correlation', y='Feature', data=corr_df, palette='coolwarm', legend=False)\n",
    "plt.title(f'Correlation of Features with {target}')\n",
    "plt.axvline(0, color='black', linewidth=1)\n",
    "plt.tight_layout()\n",
    "plt.show()\n"
   ]
  },
  {
   "cell_type": "code",
   "execution_count": 35,
   "id": "a073e312",
   "metadata": {},
   "outputs": [
    {
     "data": {
      "image/png": "[encoded data removed]",
      "text/plain": [
       "<Figure size 640x480 with 1 Axes>"
      ]
     },
     "metadata": {},
     "output_type": "display_data"
    }
   ],
   "source": [
    "colors = sns.color_palette(\"coolwarm\", len(df[target].unique()))\n",
    "\n",
    "plt.pie(df[target].value_counts(), \n",
    "        labels=df[target].value_counts().index, \n",
    "        autopct='%1.1f%%', \n",
    "        startangle=90, \n",
    "        colors=colors)\n",
    "plt.title(f'Distribution of {target}')\n",
    "plt.show()"
   ]
  },
  {
   "cell_type": "code",
   "execution_count": null,
   "id": "0f586149",
   "metadata": {},
   "outputs": [],
   "source": []
  }
 ],
 "metadata": {
  "kernelspec": {
   "display_name": "ai",
   "language": "python",
   "name": "python3"
  },
  "language_info": {
   "codemirror_mode": {
    "name": "ipython",
    "version": 3
   },
   "file_extension": ".py",
   "mimetype": "text/x-python",
   "name": "python",
   "nbconvert_exporter": "python",
   "pygments_lexer": "ipython3",
   "version": "3.11.13"
  }
 },
 "nbformat": 4,
 "nbformat_minor": 5
}

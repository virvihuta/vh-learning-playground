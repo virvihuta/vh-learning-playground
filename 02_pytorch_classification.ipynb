{
 "cells": [
  {
   "cell_type": "code",
   "execution_count": null,
   "id": "403dd36b",
   "metadata": {},
   "outputs": [],
   "source": [
    "#working with classification on pytorch"
   ]
  }
 ],
 "metadata": {
  "language_info": {
   "name": "python"
  }
 },
 "nbformat": 4,
 "nbformat_minor": 5
}

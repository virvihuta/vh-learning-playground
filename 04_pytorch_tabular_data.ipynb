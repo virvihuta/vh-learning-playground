{
 "cells": [
  {
   "cell_type": "code",
   "execution_count": 103,
   "id": "ed303405",
   "metadata": {},
   "outputs": [],
   "source": [
    "import torch\n",
    "import torch.nn as nn\n",
    "import torch.optim\n",
    "from torch.utils.data import TensorDataset, DataLoader\n",
    "from torchsummary import summary\n",
    "from sklearn.model_selection import train_test_split\n",
    "from sklearn.metrics import accuracy_score\n",
    "import matplotlib.pyplot as plt\n",
    "import pandas as pd\n",
    "import numpy as np"
   ]
  },
  {
   "cell_type": "code",
   "execution_count": 104,
   "id": "cd0fc631",
   "metadata": {},
   "outputs": [
    {
     "data": {
      "text/plain": [
       "'mps'"
      ]
     },
     "execution_count": 104,
     "metadata": {},
     "output_type": "execute_result"
    }
   ],
   "source": [
    "device = \"mps\" if torch.mps.is_available() else \"cpu\"\n",
    "device"
   ]
  },
  {
   "cell_type": "code",
   "execution_count": 105,
   "id": "03851602",
   "metadata": {},
   "outputs": [],
   "source": [
    "df = pd.read_csv('datasets/riceClassification.csv')"
   ]
  },
  {
   "cell_type": "code",
   "execution_count": 106,
   "id": "6b46c066",
   "metadata": {},
   "outputs": [
    {
     "data": {
      "text/html": [
       "<div>\n",
       "<style scoped>\n",
       "    .dataframe tbody tr th:only-of-type {\n",
       "        vertical-align: middle;\n",
       "    }\n",
       "\n",
       "    .dataframe tbody tr th {\n",
       "        vertical-align: top;\n",
       "    }\n",
       "\n",
       "    .dataframe thead th {\n",
       "        text-align: right;\n",
       "    }\n",
       "</style>\n",
       "<table border=\"1\" class=\"dataframe\">\n",
       "  <thead>\n",
       "    <tr style=\"text-align: right;\">\n",
       "      <th></th>\n",
       "      <th>id</th>\n",
       "      <th>Area</th>\n",
       "      <th>MajorAxisLength</th>\n",
       "      <th>MinorAxisLength</th>\n",
       "      <th>Eccentricity</th>\n",
       "      <th>ConvexArea</th>\n",
       "      <th>EquivDiameter</th>\n",
       "      <th>Extent</th>\n",
       "      <th>Perimeter</th>\n",
       "      <th>Roundness</th>\n",
       "      <th>AspectRation</th>\n",
       "      <th>Class</th>\n",
       "    </tr>\n",
       "  </thead>\n",
       "  <tbody>\n",
       "    <tr>\n",
       "      <th>0</th>\n",
       "      <td>1</td>\n",
       "      <td>4537</td>\n",
       "      <td>92.229316</td>\n",
       "      <td>64.012769</td>\n",
       "      <td>0.719916</td>\n",
       "      <td>4677</td>\n",
       "      <td>76.004525</td>\n",
       "      <td>0.657536</td>\n",
       "      <td>273.085</td>\n",
       "      <td>0.764510</td>\n",
       "      <td>1.440796</td>\n",
       "      <td>1</td>\n",
       "    </tr>\n",
       "    <tr>\n",
       "      <th>1</th>\n",
       "      <td>2</td>\n",
       "      <td>2872</td>\n",
       "      <td>74.691881</td>\n",
       "      <td>51.400454</td>\n",
       "      <td>0.725553</td>\n",
       "      <td>3015</td>\n",
       "      <td>60.471018</td>\n",
       "      <td>0.713009</td>\n",
       "      <td>208.317</td>\n",
       "      <td>0.831658</td>\n",
       "      <td>1.453137</td>\n",
       "      <td>1</td>\n",
       "    </tr>\n",
       "    <tr>\n",
       "      <th>2</th>\n",
       "      <td>3</td>\n",
       "      <td>3048</td>\n",
       "      <td>76.293164</td>\n",
       "      <td>52.043491</td>\n",
       "      <td>0.731211</td>\n",
       "      <td>3132</td>\n",
       "      <td>62.296341</td>\n",
       "      <td>0.759153</td>\n",
       "      <td>210.012</td>\n",
       "      <td>0.868434</td>\n",
       "      <td>1.465950</td>\n",
       "      <td>1</td>\n",
       "    </tr>\n",
       "    <tr>\n",
       "      <th>3</th>\n",
       "      <td>4</td>\n",
       "      <td>3073</td>\n",
       "      <td>77.033628</td>\n",
       "      <td>51.928487</td>\n",
       "      <td>0.738639</td>\n",
       "      <td>3157</td>\n",
       "      <td>62.551300</td>\n",
       "      <td>0.783529</td>\n",
       "      <td>210.657</td>\n",
       "      <td>0.870203</td>\n",
       "      <td>1.483456</td>\n",
       "      <td>1</td>\n",
       "    </tr>\n",
       "    <tr>\n",
       "      <th>4</th>\n",
       "      <td>5</td>\n",
       "      <td>3693</td>\n",
       "      <td>85.124785</td>\n",
       "      <td>56.374021</td>\n",
       "      <td>0.749282</td>\n",
       "      <td>3802</td>\n",
       "      <td>68.571668</td>\n",
       "      <td>0.769375</td>\n",
       "      <td>230.332</td>\n",
       "      <td>0.874743</td>\n",
       "      <td>1.510000</td>\n",
       "      <td>1</td>\n",
       "    </tr>\n",
       "  </tbody>\n",
       "</table>\n",
       "</div>"
      ],
      "text/plain": [
       "   id  Area  MajorAxisLength  MinorAxisLength  Eccentricity  ConvexArea  \\\n",
       "0   1  4537        92.229316        64.012769      0.719916        4677   \n",
       "1   2  2872        74.691881        51.400454      0.725553        3015   \n",
       "2   3  3048        76.293164        52.043491      0.731211        3132   \n",
       "3   4  3073        77.033628        51.928487      0.738639        3157   \n",
       "4   5  3693        85.124785        56.374021      0.749282        3802   \n",
       "\n",
       "   EquivDiameter    Extent  Perimeter  Roundness  AspectRation  Class  \n",
       "0      76.004525  0.657536    273.085   0.764510      1.440796      1  \n",
       "1      60.471018  0.713009    208.317   0.831658      1.453137      1  \n",
       "2      62.296341  0.759153    210.012   0.868434      1.465950      1  \n",
       "3      62.551300  0.783529    210.657   0.870203      1.483456      1  \n",
       "4      68.571668  0.769375    230.332   0.874743      1.510000      1  "
      ]
     },
     "execution_count": 106,
     "metadata": {},
     "output_type": "execute_result"
    }
   ],
   "source": [
    "df.head()"
   ]
  },
  {
   "cell_type": "code",
   "execution_count": 107,
   "id": "6aba9fe3",
   "metadata": {},
   "outputs": [
    {
     "data": {
      "text/plain": [
       "id                 0\n",
       "Area               0\n",
       "MajorAxisLength    0\n",
       "MinorAxisLength    0\n",
       "Eccentricity       0\n",
       "ConvexArea         0\n",
       "EquivDiameter      0\n",
       "Extent             0\n",
       "Perimeter          0\n",
       "Roundness          0\n",
       "AspectRation       0\n",
       "Class              0\n",
       "dtype: int64"
      ]
     },
     "execution_count": 107,
     "metadata": {},
     "output_type": "execute_result"
    }
   ],
   "source": [
    "df.isna().sum()"
   ]
  },
  {
   "cell_type": "code",
   "execution_count": 108,
   "id": "42bc4c23",
   "metadata": {},
   "outputs": [
    {
     "data": {
      "text/plain": [
       "np.int64(0)"
      ]
     },
     "execution_count": 108,
     "metadata": {},
     "output_type": "execute_result"
    }
   ],
   "source": [
    "df.duplicated().sum()"
   ]
  },
  {
   "cell_type": "code",
   "execution_count": 109,
   "id": "c645409d",
   "metadata": {},
   "outputs": [],
   "source": [
    "df.drop(columns='id', inplace=True)"
   ]
  },
  {
   "cell_type": "code",
   "execution_count": 110,
   "id": "1cb3d8fe",
   "metadata": {},
   "outputs": [
    {
     "data": {
      "text/html": [
       "<div>\n",
       "<style scoped>\n",
       "    .dataframe tbody tr th:only-of-type {\n",
       "        vertical-align: middle;\n",
       "    }\n",
       "\n",
       "    .dataframe tbody tr th {\n",
       "        vertical-align: top;\n",
       "    }\n",
       "\n",
       "    .dataframe thead th {\n",
       "        text-align: right;\n",
       "    }\n",
       "</style>\n",
       "<table border=\"1\" class=\"dataframe\">\n",
       "  <thead>\n",
       "    <tr style=\"text-align: right;\">\n",
       "      <th></th>\n",
       "      <th>Area</th>\n",
       "      <th>MajorAxisLength</th>\n",
       "      <th>MinorAxisLength</th>\n",
       "      <th>Eccentricity</th>\n",
       "      <th>ConvexArea</th>\n",
       "      <th>EquivDiameter</th>\n",
       "      <th>Extent</th>\n",
       "      <th>Perimeter</th>\n",
       "      <th>Roundness</th>\n",
       "      <th>AspectRation</th>\n",
       "      <th>Class</th>\n",
       "    </tr>\n",
       "  </thead>\n",
       "  <tbody>\n",
       "    <tr>\n",
       "      <th>0</th>\n",
       "      <td>4537</td>\n",
       "      <td>92.229316</td>\n",
       "      <td>64.012769</td>\n",
       "      <td>0.719916</td>\n",
       "      <td>4677</td>\n",
       "      <td>76.004525</td>\n",
       "      <td>0.657536</td>\n",
       "      <td>273.085</td>\n",
       "      <td>0.764510</td>\n",
       "      <td>1.440796</td>\n",
       "      <td>1</td>\n",
       "    </tr>\n",
       "    <tr>\n",
       "      <th>1</th>\n",
       "      <td>2872</td>\n",
       "      <td>74.691881</td>\n",
       "      <td>51.400454</td>\n",
       "      <td>0.725553</td>\n",
       "      <td>3015</td>\n",
       "      <td>60.471018</td>\n",
       "      <td>0.713009</td>\n",
       "      <td>208.317</td>\n",
       "      <td>0.831658</td>\n",
       "      <td>1.453137</td>\n",
       "      <td>1</td>\n",
       "    </tr>\n",
       "    <tr>\n",
       "      <th>2</th>\n",
       "      <td>3048</td>\n",
       "      <td>76.293164</td>\n",
       "      <td>52.043491</td>\n",
       "      <td>0.731211</td>\n",
       "      <td>3132</td>\n",
       "      <td>62.296341</td>\n",
       "      <td>0.759153</td>\n",
       "      <td>210.012</td>\n",
       "      <td>0.868434</td>\n",
       "      <td>1.465950</td>\n",
       "      <td>1</td>\n",
       "    </tr>\n",
       "    <tr>\n",
       "      <th>3</th>\n",
       "      <td>3073</td>\n",
       "      <td>77.033628</td>\n",
       "      <td>51.928487</td>\n",
       "      <td>0.738639</td>\n",
       "      <td>3157</td>\n",
       "      <td>62.551300</td>\n",
       "      <td>0.783529</td>\n",
       "      <td>210.657</td>\n",
       "      <td>0.870203</td>\n",
       "      <td>1.483456</td>\n",
       "      <td>1</td>\n",
       "    </tr>\n",
       "    <tr>\n",
       "      <th>4</th>\n",
       "      <td>3693</td>\n",
       "      <td>85.124785</td>\n",
       "      <td>56.374021</td>\n",
       "      <td>0.749282</td>\n",
       "      <td>3802</td>\n",
       "      <td>68.571668</td>\n",
       "      <td>0.769375</td>\n",
       "      <td>230.332</td>\n",
       "      <td>0.874743</td>\n",
       "      <td>1.510000</td>\n",
       "      <td>1</td>\n",
       "    </tr>\n",
       "  </tbody>\n",
       "</table>\n",
       "</div>"
      ],
      "text/plain": [
       "   Area  MajorAxisLength  MinorAxisLength  Eccentricity  ConvexArea  \\\n",
       "0  4537        92.229316        64.012769      0.719916        4677   \n",
       "1  2872        74.691881        51.400454      0.725553        3015   \n",
       "2  3048        76.293164        52.043491      0.731211        3132   \n",
       "3  3073        77.033628        51.928487      0.738639        3157   \n",
       "4  3693        85.124785        56.374021      0.749282        3802   \n",
       "\n",
       "   EquivDiameter    Extent  Perimeter  Roundness  AspectRation  Class  \n",
       "0      76.004525  0.657536    273.085   0.764510      1.440796      1  \n",
       "1      60.471018  0.713009    208.317   0.831658      1.453137      1  \n",
       "2      62.296341  0.759153    210.012   0.868434      1.465950      1  \n",
       "3      62.551300  0.783529    210.657   0.870203      1.483456      1  \n",
       "4      68.571668  0.769375    230.332   0.874743      1.510000      1  "
      ]
     },
     "execution_count": 110,
     "metadata": {},
     "output_type": "execute_result"
    }
   ],
   "source": [
    "df.head()"
   ]
  },
  {
   "cell_type": "code",
   "execution_count": 111,
   "id": "0efbe61c",
   "metadata": {},
   "outputs": [
    {
     "data": {
      "text/plain": [
       "(18185, 11)"
      ]
     },
     "execution_count": 111,
     "metadata": {},
     "output_type": "execute_result"
    }
   ],
   "source": [
    "df.shape"
   ]
  },
  {
   "cell_type": "code",
   "execution_count": 112,
   "id": "220944bd",
   "metadata": {},
   "outputs": [
    {
     "data": {
      "text/plain": [
       "Class\n",
       "1    9985\n",
       "0    8200\n",
       "Name: count, dtype: int64"
      ]
     },
     "execution_count": 112,
     "metadata": {},
     "output_type": "execute_result"
    }
   ],
   "source": [
    "df['Class'].value_counts()"
   ]
  },
  {
   "cell_type": "code",
   "execution_count": 113,
   "id": "508d71c4",
   "metadata": {},
   "outputs": [],
   "source": [
    "original_df = df.copy()"
   ]
  },
  {
   "cell_type": "code",
   "execution_count": 114,
   "id": "21b790c9",
   "metadata": {},
   "outputs": [
    {
     "data": {
      "text/html": [
       "<div>\n",
       "<style scoped>\n",
       "    .dataframe tbody tr th:only-of-type {\n",
       "        vertical-align: middle;\n",
       "    }\n",
       "\n",
       "    .dataframe tbody tr th {\n",
       "        vertical-align: top;\n",
       "    }\n",
       "\n",
       "    .dataframe thead th {\n",
       "        text-align: right;\n",
       "    }\n",
       "</style>\n",
       "<table border=\"1\" class=\"dataframe\">\n",
       "  <thead>\n",
       "    <tr style=\"text-align: right;\">\n",
       "      <th></th>\n",
       "      <th>Area</th>\n",
       "      <th>MajorAxisLength</th>\n",
       "      <th>MinorAxisLength</th>\n",
       "      <th>Eccentricity</th>\n",
       "      <th>ConvexArea</th>\n",
       "      <th>EquivDiameter</th>\n",
       "      <th>Extent</th>\n",
       "      <th>Perimeter</th>\n",
       "      <th>Roundness</th>\n",
       "      <th>AspectRation</th>\n",
       "      <th>Class</th>\n",
       "    </tr>\n",
       "  </thead>\n",
       "  <tbody>\n",
       "    <tr>\n",
       "      <th>0</th>\n",
       "      <td>0.444368</td>\n",
       "      <td>0.503404</td>\n",
       "      <td>0.775435</td>\n",
       "      <td>0.744658</td>\n",
       "      <td>0.424873</td>\n",
       "      <td>0.666610</td>\n",
       "      <td>0.741661</td>\n",
       "      <td>0.537029</td>\n",
       "      <td>0.844997</td>\n",
       "      <td>0.368316</td>\n",
       "      <td>1.0</td>\n",
       "    </tr>\n",
       "    <tr>\n",
       "      <th>1</th>\n",
       "      <td>0.281293</td>\n",
       "      <td>0.407681</td>\n",
       "      <td>0.622653</td>\n",
       "      <td>0.750489</td>\n",
       "      <td>0.273892</td>\n",
       "      <td>0.530370</td>\n",
       "      <td>0.804230</td>\n",
       "      <td>0.409661</td>\n",
       "      <td>0.919215</td>\n",
       "      <td>0.371471</td>\n",
       "      <td>1.0</td>\n",
       "    </tr>\n",
       "    <tr>\n",
       "      <th>2</th>\n",
       "      <td>0.298531</td>\n",
       "      <td>0.416421</td>\n",
       "      <td>0.630442</td>\n",
       "      <td>0.756341</td>\n",
       "      <td>0.284520</td>\n",
       "      <td>0.546380</td>\n",
       "      <td>0.856278</td>\n",
       "      <td>0.412994</td>\n",
       "      <td>0.959862</td>\n",
       "      <td>0.374747</td>\n",
       "      <td>1.0</td>\n",
       "    </tr>\n",
       "    <tr>\n",
       "      <th>3</th>\n",
       "      <td>0.300979</td>\n",
       "      <td>0.420463</td>\n",
       "      <td>0.629049</td>\n",
       "      <td>0.764024</td>\n",
       "      <td>0.286791</td>\n",
       "      <td>0.548616</td>\n",
       "      <td>0.883772</td>\n",
       "      <td>0.414262</td>\n",
       "      <td>0.961818</td>\n",
       "      <td>0.379222</td>\n",
       "      <td>1.0</td>\n",
       "    </tr>\n",
       "    <tr>\n",
       "      <th>4</th>\n",
       "      <td>0.361704</td>\n",
       "      <td>0.464626</td>\n",
       "      <td>0.682901</td>\n",
       "      <td>0.775033</td>\n",
       "      <td>0.345385</td>\n",
       "      <td>0.601418</td>\n",
       "      <td>0.867808</td>\n",
       "      <td>0.452954</td>\n",
       "      <td>0.966836</td>\n",
       "      <td>0.386007</td>\n",
       "      <td>1.0</td>\n",
       "    </tr>\n",
       "  </tbody>\n",
       "</table>\n",
       "</div>"
      ],
      "text/plain": [
       "       Area  MajorAxisLength  MinorAxisLength  Eccentricity  ConvexArea  \\\n",
       "0  0.444368         0.503404         0.775435      0.744658    0.424873   \n",
       "1  0.281293         0.407681         0.622653      0.750489    0.273892   \n",
       "2  0.298531         0.416421         0.630442      0.756341    0.284520   \n",
       "3  0.300979         0.420463         0.629049      0.764024    0.286791   \n",
       "4  0.361704         0.464626         0.682901      0.775033    0.345385   \n",
       "\n",
       "   EquivDiameter    Extent  Perimeter  Roundness  AspectRation  Class  \n",
       "0       0.666610  0.741661   0.537029   0.844997      0.368316    1.0  \n",
       "1       0.530370  0.804230   0.409661   0.919215      0.371471    1.0  \n",
       "2       0.546380  0.856278   0.412994   0.959862      0.374747    1.0  \n",
       "3       0.548616  0.883772   0.414262   0.961818      0.379222    1.0  \n",
       "4       0.601418  0.867808   0.452954   0.966836      0.386007    1.0  "
      ]
     },
     "execution_count": 114,
     "metadata": {},
     "output_type": "execute_result"
    }
   ],
   "source": [
    "for column in df.columns:\n",
    "    df[column] = df[column]/df[column].abs().max()\n",
    "\n",
    "df.head()"
   ]
  },
  {
   "cell_type": "code",
   "execution_count": 115,
   "id": "ebd47040",
   "metadata": {},
   "outputs": [],
   "source": [
    "X = df.drop(columns='Class')\n",
    "y = df['Class']"
   ]
  },
  {
   "cell_type": "code",
   "execution_count": 116,
   "id": "62b24bbd",
   "metadata": {},
   "outputs": [],
   "source": [
    "X_train, X_test, y_train, y_test = train_test_split(X, y, test_size=0.3, stratify=y, random_state=42)\n",
    "X_test, X_val, y_test, y_val = train_test_split(X_test, y_test, test_size=0.5, stratify=y_test, random_state=42)"
   ]
  },
  {
   "cell_type": "code",
   "execution_count": 117,
   "id": "56c9e4bd",
   "metadata": {},
   "outputs": [
    {
     "name": "stdout",
     "output_type": "stream",
     "text": [
      "(12729, 10)\n",
      "(2728, 10)\n",
      "(2728, 10)\n"
     ]
    }
   ],
   "source": [
    "print(X_train.shape)\n",
    "print(X_test.shape)\n",
    "print(X_val.shape)"
   ]
  },
  {
   "cell_type": "code",
   "execution_count": 118,
   "id": "c313904e",
   "metadata": {},
   "outputs": [
    {
     "name": "stdout",
     "output_type": "stream",
     "text": [
      "(12729,)\n",
      "(2728,)\n",
      "(2728,)\n"
     ]
    }
   ],
   "source": [
    "print(y_train.shape)\n",
    "print(y_test.shape)\n",
    "print(y_val.shape)"
   ]
  },
  {
   "cell_type": "code",
   "execution_count": 119,
   "id": "44768800",
   "metadata": {},
   "outputs": [],
   "source": [
    "X_train_t = torch.tensor(X_train.to_numpy(), dtype=torch.float32)\n",
    "y_train_t = torch.tensor(y_train.to_numpy(), dtype=torch.float32)\n",
    "\n",
    "X_val_t = torch.tensor(X_val.to_numpy(), dtype=torch.float32)\n",
    "y_val_t = torch.tensor(y_val.to_numpy(), dtype=torch.float32)\n",
    "\n",
    "X_test_t = torch.tensor(X_test.to_numpy(), dtype=torch.float32)\n",
    "y_test_t = torch.tensor(y_test.to_numpy(), dtype=torch.float32)"
   ]
  },
  {
   "cell_type": "code",
   "execution_count": 120,
   "id": "b90a4395",
   "metadata": {},
   "outputs": [],
   "source": [
    "train_data = TensorDataset(X_train_t, y_train_t)\n",
    "val_data   = TensorDataset(X_val_t, y_val_t)\n",
    "test_data  = TensorDataset(X_test_t, y_test_t)"
   ]
  },
  {
   "cell_type": "code",
   "execution_count": 121,
   "id": "9762dd73",
   "metadata": {},
   "outputs": [],
   "source": [
    "train_loader = DataLoader(train_data, batch_size=8, shuffle=True)\n",
    "val_loader   = DataLoader(val_data, batch_size=8)\n",
    "test_loader  = DataLoader(test_data, batch_size=8)"
   ]
  },
  {
   "cell_type": "code",
   "execution_count": 122,
   "id": "e1f7c40e",
   "metadata": {},
   "outputs": [
    {
     "data": {
      "text/plain": [
       "NeuralNet(\n",
       "  (input_layer): Linear(in_features=10, out_features=24, bias=True)\n",
       "  (linear): Linear(in_features=24, out_features=1, bias=True)\n",
       "  (sigmoid): Sigmoid()\n",
       ")"
      ]
     },
     "execution_count": 122,
     "metadata": {},
     "output_type": "execute_result"
    }
   ],
   "source": [
    "HIDDEN_NEURONS = 24\n",
    "\n",
    "class NeuralNet(nn.Module):\n",
    "    def __init__(self):\n",
    "        super().__init__()\n",
    "        self.input_layer = nn.Linear(X.shape[1], HIDDEN_NEURONS)\n",
    "        self.linear = nn.Linear(HIDDEN_NEURONS, 1)\n",
    "        self.sigmoid = nn.Sigmoid()\n",
    "    \n",
    "    def forward(self, x):\n",
    "        x = self.input_layer(x)\n",
    "        x = self.linear(x)\n",
    "        x = self.sigmoid(x)\n",
    "        return x \n",
    "\n",
    "model = NeuralNet()\n",
    "model"
   ]
  },
  {
   "cell_type": "code",
   "execution_count": 123,
   "id": "ee6ebfe6",
   "metadata": {},
   "outputs": [
    {
     "name": "stdout",
     "output_type": "stream",
     "text": [
      "----------------------------------------------------------------\n",
      "        Layer (type)               Output Shape         Param #\n",
      "================================================================\n",
      "            Linear-1                   [-1, 24]             264\n",
      "            Linear-2                    [-1, 1]              25\n",
      "           Sigmoid-3                    [-1, 1]               0\n",
      "================================================================\n",
      "Total params: 289\n",
      "Trainable params: 289\n",
      "Non-trainable params: 0\n",
      "----------------------------------------------------------------\n",
      "Input size (MB): 0.00\n",
      "Forward/backward pass size (MB): 0.00\n",
      "Params size (MB): 0.00\n",
      "Estimated Total Size (MB): 0.00\n",
      "----------------------------------------------------------------\n"
     ]
    }
   ],
   "source": [
    "summary(model, (X.shape[1],))"
   ]
  },
  {
   "cell_type": "code",
   "execution_count": 124,
   "id": "066e8cf6",
   "metadata": {},
   "outputs": [],
   "source": [
    "criterion = nn.BCELoss()\n",
    "optimizer = torch.optim.Adam(params=model.parameters(), lr=1e-3)"
   ]
  },
  {
   "cell_type": "code",
   "execution_count": 125,
   "id": "6c7c2d34",
   "metadata": {},
   "outputs": [
    {
     "name": "stdout",
     "output_type": "stream",
     "text": [
      "Training Loss: 0.0157 || Validation Loss: 0.0218 || Accuracy: 0.9806\n",
      "Training Loss: 0.0007 || Validation Loss: 0.0037 || Accuracy: 0.9897\n",
      "Training Loss: 0.0000 || Validation Loss: 0.0031 || Accuracy: 0.9846\n",
      "Training Loss: 0.0024 || Validation Loss: 0.0006 || Accuracy: 0.9894\n",
      "Training Loss: 0.0000 || Validation Loss: 0.0004 || Accuracy: 0.9897\n",
      "Training Loss: 0.4176 || Validation Loss: 0.0004 || Accuracy: 0.9897\n",
      "Training Loss: 0.0001 || Validation Loss: 0.0003 || Accuracy: 0.9901\n",
      "Training Loss: 0.0007 || Validation Loss: 0.0003 || Accuracy: 0.9901\n",
      "Training Loss: 0.0000 || Validation Loss: 0.0004 || Accuracy: 0.9886\n",
      "Training Loss: 0.0001 || Validation Loss: 0.0002 || Accuracy: 0.9897\n"
     ]
    }
   ],
   "source": [
    "epochs = 10\n",
    "model.to(device)\n",
    "\n",
    "for epoch in range(epochs):\n",
    "    model.train()\n",
    "    for X, y in train_loader:\n",
    "        X, y = X.to(device), y.to(device)\n",
    "        y_pred_train = model(X).view(-1)\n",
    "        loss_train = criterion(y_pred_train, y)\n",
    "        optimizer.zero_grad()\n",
    "        loss_train.backward()\n",
    "        optimizer.step()\n",
    "\n",
    "    model.eval()\n",
    "    with torch.inference_mode():\n",
    "        all_y_true, all_y_pred = [], []\n",
    "        for X, y in val_loader:\n",
    "            X, y = X.to(device), y.to(device)\n",
    "            y_pred_val = model(X).view(-1)\n",
    "            loss_val = criterion(y_pred_val, y)\n",
    "            \n",
    "            preds = (y_pred_val > 0.5).int().cpu().numpy()\n",
    "            all_y_pred.extend(preds)\n",
    "            all_y_true.extend(y.cpu().numpy())\n",
    "\n",
    "    acc = accuracy_score(all_y_true, all_y_pred)\n",
    "    print(f\"Training Loss: {loss_train:.4f} || Validation Loss: {loss_val:.4f} || Accuracy: {acc:.4f}\")\n"
   ]
  },
  {
   "cell_type": "code",
   "execution_count": 126,
   "id": "3e542fd7",
   "metadata": {},
   "outputs": [
    {
     "data": {
      "text/plain": [
       "OrderedDict([('input_layer.weight',\n",
       "              tensor([[ 3.2461e-01, -2.1272e-01,  5.1345e-01, -4.5357e-01,  8.0007e-01,\n",
       "                        4.1633e-01,  1.9604e-01, -3.5607e-01, -5.8487e-02, -9.6140e-01],\n",
       "                      [ 4.9698e-01, -7.5535e-02,  7.0593e-01, -4.1784e-01,  6.2883e-01,\n",
       "                        6.1849e-02,  1.7380e-01,  1.5255e-01,  7.9353e-02, -1.0680e+00],\n",
       "                      [ 2.5563e-01,  9.2704e-02,  3.6150e-01, -2.9931e-01,  5.9035e-01,\n",
       "                        2.8614e-01, -1.0418e-02,  1.7692e-02,  2.9568e-01, -3.9224e-01],\n",
       "                      [ 2.8448e-01, -4.4722e-01,  2.8917e-01, -1.4085e-01,  3.7114e-01,\n",
       "                        7.8481e-02,  1.3938e-01,  2.4316e-02,  2.8682e-01, -8.9303e-01],\n",
       "                      [-3.3188e-01,  4.5549e-01, -2.6723e-01,  5.7491e-01, -4.8959e-01,\n",
       "                       -3.5517e-02, -2.4405e-01, -1.3751e-01, -2.3021e-01,  7.7032e-01],\n",
       "                      [ 5.7433e-01, -4.2469e-01,  1.2015e-01, -2.2588e-01,  1.8667e-01,\n",
       "                        6.9381e-02,  2.9805e-01, -2.2049e-01,  1.1368e-01, -9.1810e-01],\n",
       "                      [ 6.9201e-01, -3.1916e-01,  3.7827e-01, -2.4849e-01,  7.3559e-01,\n",
       "                        3.2029e-02,  1.3371e-01,  1.9609e-01,  2.2419e-02, -1.1080e+00],\n",
       "                      [-5.3291e-01,  1.4907e-02, -6.1436e-01,  2.9916e-01, -5.1574e-01,\n",
       "                       -4.4222e-01, -3.1770e-01,  3.1001e-01, -1.7876e-01,  1.0757e+00],\n",
       "                      [ 6.4549e-01, -1.5397e-01,  6.2223e-01, -3.0482e-01,  6.4663e-01,\n",
       "                        1.4277e-01,  4.4401e-02, -3.6392e-01,  5.1025e-01, -9.7284e-01],\n",
       "                      [-7.6977e-01,  1.9098e-01, -5.6215e-01,  6.1646e-01, -5.2350e-01,\n",
       "                       -1.3840e-01,  1.2318e-01,  3.2899e-01, -2.2777e-01,  8.1227e-01],\n",
       "                      [-7.7826e-01,  3.4265e-01, -3.7882e-01,  1.5533e-01, -6.8660e-01,\n",
       "                        5.8322e-02,  1.0623e-01, -2.2612e-01, -1.8029e-01,  9.1690e-01],\n",
       "                      [ 4.5222e-01, -7.9517e-02,  2.1957e-01, -4.3843e-01,  1.9678e-01,\n",
       "                        4.5462e-02,  2.9520e-01, -2.9806e-01,  3.3285e-01, -7.2666e-01],\n",
       "                      [ 5.0667e-01, -3.3379e-02,  6.0912e-01, -4.3328e-01,  6.5996e-01,\n",
       "                        7.0709e-02, -2.6539e-01,  8.2088e-02,  2.0991e-01, -6.3987e-01],\n",
       "                      [ 4.8286e-01,  5.2389e-02,  2.7778e-01,  1.2102e-02,  3.6828e-01,\n",
       "                        3.1133e-01, -2.2904e-01,  1.9746e-01,  4.3142e-01, -6.8795e-01],\n",
       "                      [ 6.4078e-01, -7.2063e-02,  2.5981e-01, -4.1024e-01,  5.0759e-01,\n",
       "                        2.2382e-01, -3.1279e-01, -1.4564e-01,  2.6989e-01, -4.6333e-01],\n",
       "                      [ 5.0663e-01, -2.0033e-01,  7.6300e-01, -1.8249e-01,  5.9803e-01,\n",
       "                       -5.2891e-02,  7.0713e-02, -2.5187e-01,  1.1312e-02, -1.0278e+00],\n",
       "                      [-4.7465e-01,  1.3739e-01, -8.3159e-01,  5.5364e-01, -4.8794e-01,\n",
       "                       -3.8576e-01,  1.1288e-01,  3.5576e-01, -4.3111e-01,  7.8054e-01],\n",
       "                      [-1.9529e-01, -4.3744e-02, -3.0743e-01,  8.3919e-02, -1.3373e-01,\n",
       "                        2.6424e-02,  7.4988e-02,  2.8784e-01, -3.9958e-01,  8.0281e-01],\n",
       "                      [ 4.6812e-01, -4.5239e-01,  7.5256e-01, -5.7335e-01,  5.3012e-01,\n",
       "                        1.0103e-01, -2.0707e-01, -1.8189e-02,  2.8497e-01, -6.7063e-01],\n",
       "                      [ 5.2877e-01, -4.5044e-01,  4.5778e-01, -5.0341e-01,  2.0998e-01,\n",
       "                        1.0386e-01, -6.9513e-02, -2.9395e-01,  4.8358e-01, -6.8902e-01],\n",
       "                      [-5.8931e-01,  8.3194e-02, -5.0756e-01,  3.2716e-01, -3.7642e-01,\n",
       "                       -2.6200e-01,  1.7295e-01,  3.0111e-01, -3.8813e-01,  8.6202e-01],\n",
       "                      [-3.4671e-01,  4.3869e-01, -6.4820e-01,  1.2658e-01, -8.0934e-01,\n",
       "                       -3.4155e-01,  1.9584e-01, -8.8478e-02,  7.5709e-02,  1.1255e+00],\n",
       "                      [ 7.3655e-01,  1.0598e-01,  3.7748e-01, -5.7280e-01,  3.8514e-01,\n",
       "                        6.3077e-03,  1.3759e-01,  1.1079e-01,  5.1542e-01, -7.8954e-01],\n",
       "                      [-2.8973e-01,  4.9282e-01, -5.0761e-01,  2.9791e-01, -2.0862e-01,\n",
       "                       -2.7311e-01,  3.5244e-04, -1.1429e-01, -1.4939e-01,  1.0121e+00]],\n",
       "                     device='mps:0')),\n",
       "             ('input_layer.bias',\n",
       "              tensor([-0.3519, -0.4737,  0.0256, -0.1809,  0.4130, -0.2252, -0.1634,  0.4344,\n",
       "                      -0.4336,  0.5205,  0.2934, -0.3683, -0.0761, -0.5275, -0.4627, -0.3041,\n",
       "                       0.2053, -0.0323,  0.0876, -0.3459,  0.3187,  0.2395, -0.4193,  0.1411],\n",
       "                     device='mps:0')),\n",
       "             ('linear.weight',\n",
       "              tensor([[-1.1247, -1.9972, -0.2499, -0.8095,  0.4296, -0.4311, -2.0990,  1.6675,\n",
       "                       -2.1757,  0.7516,  2.2398, -0.6479, -0.7652, -0.6198, -0.9839, -1.4235,\n",
       "                        1.4730,  0.8898, -2.2643, -0.4293,  1.7780,  1.8838, -1.6328,  0.7028]],\n",
       "                     device='mps:0')),\n",
       "             ('linear.bias', tensor([-0.0207], device='mps:0'))])"
      ]
     },
     "execution_count": 126,
     "metadata": {},
     "output_type": "execute_result"
    }
   ],
   "source": [
    "model.state_dict()"
   ]
  },
  {
   "cell_type": "code",
   "execution_count": null,
   "id": "b9f2b2a2",
   "metadata": {},
   "outputs": [],
   "source": []
  }
 ],
 "metadata": {
  "kernelspec": {
   "display_name": "ai",
   "language": "python",
   "name": "python3"
  },
  "language_info": {
   "codemirror_mode": {
    "name": "ipython",
    "version": 3
   },
   "file_extension": ".py",
   "mimetype": "text/x-python",
   "name": "python",
   "nbconvert_exporter": "python",
   "pygments_lexer": "ipython3",
   "version": "3.11.13"
  }
 },
 "nbformat": 4,
 "nbformat_minor": 5
}

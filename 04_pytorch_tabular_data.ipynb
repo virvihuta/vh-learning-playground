{
 "cells": [
  {
   "cell_type": "code",
   "execution_count": null,
   "id": "9bb47041",
   "metadata": {},
   "outputs": [],
   "source": [
    "import opendatasets as od"
   ]
  }
 ],
 "metadata": {
  "kernelspec": {
   "display_name": "ai",
   "language": "python",
   "name": "python3"
  },
  "language_info": {
   "name": "python",
   "version": "3.11.13"
  }
 },
 "nbformat": 4,
 "nbformat_minor": 5
}

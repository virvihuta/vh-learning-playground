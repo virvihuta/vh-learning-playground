{
 "cells": [
  {
   "cell_type": "code",
   "execution_count": 75,
   "id": "7873456a",
   "metadata": {},
   "outputs": [],
   "source": [
    "#prepare data\n",
    "#build model\n",
    "#fit data\n",
    "#make predictions evaluate"
   ]
  },
  {
   "cell_type": "code",
   "execution_count": 76,
   "id": "cc098494",
   "metadata": {},
   "outputs": [],
   "source": [
    "import torch\n",
    "from torch import nn\n",
    "import matplotlib.pyplot as plt"
   ]
  },
  {
   "cell_type": "code",
   "execution_count": 77,
   "id": "8ad6cc34",
   "metadata": {},
   "outputs": [],
   "source": [
    "#data preparing\n",
    "\n",
    "weight = 0.7\n",
    "bias = 0.3\n",
    "\n",
    "start = 0\n",
    "end = 1\n",
    "step = 0.02\n",
    "X = torch.arange(start, end, step).unsqueeze(dim=1)\n",
    "y = weight*X+bias"
   ]
  },
  {
   "cell_type": "code",
   "execution_count": 78,
   "id": "e03f9ec3",
   "metadata": {},
   "outputs": [
    {
     "data": {
      "text/plain": [
       "(tensor([[0.0000],\n",
       "         [0.0200],\n",
       "         [0.0400],\n",
       "         [0.0600],\n",
       "         [0.0800],\n",
       "         [0.1000],\n",
       "         [0.1200],\n",
       "         [0.1400],\n",
       "         [0.1600],\n",
       "         [0.1800]]),\n",
       " tensor([[0.3000],\n",
       "         [0.3140],\n",
       "         [0.3280],\n",
       "         [0.3420],\n",
       "         [0.3560],\n",
       "         [0.3700],\n",
       "         [0.3840],\n",
       "         [0.3980],\n",
       "         [0.4120],\n",
       "         [0.4260]]))"
      ]
     },
     "execution_count": 78,
     "metadata": {},
     "output_type": "execute_result"
    }
   ],
   "source": [
    "X[:10], y[:10]"
   ]
  },
  {
   "cell_type": "code",
   "execution_count": 79,
   "id": "e75621c0",
   "metadata": {},
   "outputs": [],
   "source": [
    "#splitting data into training and testing\n",
    "\n",
    "train_split = int(0.8 * len(X))\n",
    "X_train, y_train = X[:train_split], y[:train_split]\n",
    "X_test, y_test = X[train_split:], y[train_split:]\n"
   ]
  },
  {
   "cell_type": "code",
   "execution_count": 80,
   "id": "120244e4",
   "metadata": {},
   "outputs": [
    {
     "data": {
      "text/plain": [
       "(tensor([[0.0000],\n",
       "         [0.0200],\n",
       "         [0.0400],\n",
       "         [0.0600],\n",
       "         [0.0800],\n",
       "         [0.1000],\n",
       "         [0.1200],\n",
       "         [0.1400],\n",
       "         [0.1600],\n",
       "         [0.1800],\n",
       "         [0.2000],\n",
       "         [0.2200],\n",
       "         [0.2400],\n",
       "         [0.2600],\n",
       "         [0.2800],\n",
       "         [0.3000],\n",
       "         [0.3200],\n",
       "         [0.3400],\n",
       "         [0.3600],\n",
       "         [0.3800],\n",
       "         [0.4000],\n",
       "         [0.4200],\n",
       "         [0.4400],\n",
       "         [0.4600],\n",
       "         [0.4800],\n",
       "         [0.5000],\n",
       "         [0.5200],\n",
       "         [0.5400],\n",
       "         [0.5600],\n",
       "         [0.5800],\n",
       "         [0.6000],\n",
       "         [0.6200],\n",
       "         [0.6400],\n",
       "         [0.6600],\n",
       "         [0.6800],\n",
       "         [0.7000],\n",
       "         [0.7200],\n",
       "         [0.7400],\n",
       "         [0.7600],\n",
       "         [0.7800]]),\n",
       " tensor([[0.3000],\n",
       "         [0.3140],\n",
       "         [0.3280],\n",
       "         [0.3420],\n",
       "         [0.3560],\n",
       "         [0.3700],\n",
       "         [0.3840],\n",
       "         [0.3980],\n",
       "         [0.4120],\n",
       "         [0.4260],\n",
       "         [0.4400],\n",
       "         [0.4540],\n",
       "         [0.4680],\n",
       "         [0.4820],\n",
       "         [0.4960],\n",
       "         [0.5100],\n",
       "         [0.5240],\n",
       "         [0.5380],\n",
       "         [0.5520],\n",
       "         [0.5660],\n",
       "         [0.5800],\n",
       "         [0.5940],\n",
       "         [0.6080],\n",
       "         [0.6220],\n",
       "         [0.6360],\n",
       "         [0.6500],\n",
       "         [0.6640],\n",
       "         [0.6780],\n",
       "         [0.6920],\n",
       "         [0.7060],\n",
       "         [0.7200],\n",
       "         [0.7340],\n",
       "         [0.7480],\n",
       "         [0.7620],\n",
       "         [0.7760],\n",
       "         [0.7900],\n",
       "         [0.8040],\n",
       "         [0.8180],\n",
       "         [0.8320],\n",
       "         [0.8460]]))"
      ]
     },
     "execution_count": 80,
     "metadata": {},
     "output_type": "execute_result"
    }
   ],
   "source": [
    "X_train, y_train"
   ]
  },
  {
   "cell_type": "code",
   "execution_count": 81,
   "id": "c9eb3582",
   "metadata": {},
   "outputs": [],
   "source": [
    "#plot prediction \n",
    "\n",
    "def plot_prediction(train_data = X_train, train_labels = y_train, test_data = X_test, test_labels = y_test, predictions = None):\n",
    "    plt.figure(figsize=(10,7))\n",
    "    plt.scatter(train_data, train_labels, c='b', s=4, label='Training Data')\n",
    "    plt.scatter(test_data, test_labels, c='g', s=4, label='Testing Data')\n",
    "    if predictions is not None:\n",
    "        plt.scatter(test_data, predictions, c='r', s=4, label=\"Predictions\")\n",
    "    plt.legend(prop={\"size\":14})"
   ]
  },
  {
   "cell_type": "code",
   "execution_count": 82,
   "id": "5fc5f87e",
   "metadata": {},
   "outputs": [
    {
     "data": {
      "image/png": "[encoded data removed]",
      "text/plain": [
       "<Figure size 1000x700 with 1 Axes>"
      ]
     },
     "metadata": {},
     "output_type": "display_data"
    }
   ],
   "source": [
    "plot_prediction()"
   ]
  },
  {
   "cell_type": "code",
   "execution_count": 83,
   "id": "793535e9",
   "metadata": {},
   "outputs": [],
   "source": [
    "#building a model\n",
    "\n",
    "class LinearRegressionModel(nn.Module):\n",
    "    def __init__(self):\n",
    "        super().__init__()\n",
    "        self.weights = nn.Parameter(torch.randn(1, requires_grad=True, dtype=torch.float))\n",
    "        self.biases = nn.Parameter(torch.randn(1, requires_grad=True, dtype=torch.float))\n",
    "    def forward(self, x: torch.Tensor) -> torch.Tensor:\n",
    "            return self.weights * x + self.biases"
   ]
  },
  {
   "cell_type": "code",
   "execution_count": 84,
   "id": "2bd23852",
   "metadata": {},
   "outputs": [
    {
     "data": {
      "text/plain": [
       "LinearRegressionModel()"
      ]
     },
     "execution_count": 84,
     "metadata": {},
     "output_type": "execute_result"
    }
   ],
   "source": [
    "#pytorch model building essentials\n",
    "#Checking the contents of our pytorch model\n",
    "\n",
    "torch.manual_seed(42)\n",
    "\n",
    "model_0 = LinearRegressionModel()\n",
    "model_0"
   ]
  },
  {
   "cell_type": "code",
   "execution_count": 85,
   "id": "0941b601",
   "metadata": {},
   "outputs": [
    {
     "data": {
      "text/plain": [
       "[Parameter containing:\n",
       " tensor([0.3367], requires_grad=True),\n",
       " Parameter containing:\n",
       " tensor([0.1288], requires_grad=True)]"
      ]
     },
     "execution_count": 85,
     "metadata": {},
     "output_type": "execute_result"
    }
   ],
   "source": [
    "list(model_0.parameters())"
   ]
  },
  {
   "cell_type": "code",
   "execution_count": 86,
   "id": "1726349e",
   "metadata": {},
   "outputs": [
    {
     "data": {
      "text/plain": [
       "OrderedDict([('weights', tensor([0.3367])), ('biases', tensor([0.1288]))])"
      ]
     },
     "execution_count": 86,
     "metadata": {},
     "output_type": "execute_result"
    }
   ],
   "source": [
    "model_0.state_dict()"
   ]
  },
  {
   "cell_type": "code",
   "execution_count": 87,
   "id": "7320070c",
   "metadata": {},
   "outputs": [
    {
     "data": {
      "text/plain": [
       "(0.7, 0.3)"
      ]
     },
     "execution_count": 87,
     "metadata": {},
     "output_type": "execute_result"
    }
   ],
   "source": [
    "weight, bias"
   ]
  },
  {
   "cell_type": "code",
   "execution_count": 88,
   "id": "040f10b1",
   "metadata": {},
   "outputs": [
    {
     "data": {
      "text/plain": [
       "tensor([[0.3982],\n",
       "        [0.4049],\n",
       "        [0.4116],\n",
       "        [0.4184],\n",
       "        [0.4251],\n",
       "        [0.4318],\n",
       "        [0.4386],\n",
       "        [0.4453],\n",
       "        [0.4520],\n",
       "        [0.4588]])"
      ]
     },
     "execution_count": 88,
     "metadata": {},
     "output_type": "execute_result"
    }
   ],
   "source": [
    "with torch.inference_mode():\n",
    "    y_pred = model_0(X_test)\n",
    "\n",
    "y_pred"
   ]
  },
  {
   "cell_type": "code",
   "execution_count": 89,
   "id": "99a147ee",
   "metadata": {},
   "outputs": [
    {
     "data": {
      "text/plain": [
       "tensor([[0.8600],\n",
       "        [0.8740],\n",
       "        [0.8880],\n",
       "        [0.9020],\n",
       "        [0.9160],\n",
       "        [0.9300],\n",
       "        [0.9440],\n",
       "        [0.9580],\n",
       "        [0.9720],\n",
       "        [0.9860]])"
      ]
     },
     "execution_count": 89,
     "metadata": {},
     "output_type": "execute_result"
    }
   ],
   "source": [
    "y_test"
   ]
  },
  {
   "cell_type": "code",
   "execution_count": 90,
   "id": "a3079d72",
   "metadata": {},
   "outputs": [
    {
     "data": {
      "image/png": "[encoded data removed]",
      "text/plain": [
       "<Figure size 1000x700 with 1 Axes>"
      ]
     },
     "metadata": {},
     "output_type": "display_data"
    }
   ],
   "source": [
    "plot_prediction(predictions=y_pred)"
   ]
  },
  {
   "cell_type": "code",
   "execution_count": 91,
   "id": "d7fe072f",
   "metadata": {},
   "outputs": [
    {
     "data": {
      "text/plain": [
       "OrderedDict([('weights', tensor([0.3367])), ('biases', tensor([0.1288]))])"
      ]
     },
     "execution_count": 91,
     "metadata": {},
     "output_type": "execute_result"
    }
   ],
   "source": [
    "#training the model\n",
    "\n",
    "model_0.state_dict()"
   ]
  },
  {
   "cell_type": "code",
   "execution_count": 92,
   "id": "520cf138",
   "metadata": {},
   "outputs": [
    {
     "data": {
      "text/plain": [
       "L1Loss()"
      ]
     },
     "execution_count": 92,
     "metadata": {},
     "output_type": "execute_result"
    }
   ],
   "source": [
    "loss = torch.nn.L1Loss()\n",
    "loss"
   ]
  },
  {
   "cell_type": "code",
   "execution_count": 93,
   "id": "c351feae",
   "metadata": {},
   "outputs": [
    {
     "data": {
      "text/plain": [
       "SGD (\n",
       "Parameter Group 0\n",
       "    dampening: 0\n",
       "    differentiable: False\n",
       "    foreach: None\n",
       "    fused: None\n",
       "    lr: 0.01\n",
       "    maximize: False\n",
       "    momentum: 0\n",
       "    nesterov: False\n",
       "    weight_decay: 0\n",
       ")"
      ]
     },
     "execution_count": 93,
     "metadata": {},
     "output_type": "execute_result"
    }
   ],
   "source": [
    "optimizer = torch.optim.SGD(model_0.parameters(), lr=0.01)\n",
    "optimizer"
   ]
  },
  {
   "cell_type": "code",
   "execution_count": 100,
   "id": "3c3efeb9",
   "metadata": {},
   "outputs": [
    {
     "name": "stdout",
     "output_type": "stream",
     "text": [
      "Loss: 0.3013603687286377\n",
      "OrderedDict([('weights', tensor([0.3445])), ('biases', tensor([0.1488]))])\n",
      "Loss: 0.28983935713768005\n",
      "OrderedDict([('weights', tensor([0.3484])), ('biases', tensor([0.1588]))])\n",
      "Loss: 0.2783183455467224\n",
      "OrderedDict([('weights', tensor([0.3523])), ('biases', tensor([0.1688]))])\n",
      "Loss: 0.26679736375808716\n",
      "OrderedDict([('weights', tensor([0.3562])), ('biases', tensor([0.1788]))])\n",
      "Loss: 0.2552763521671295\n",
      "OrderedDict([('weights', tensor([0.3601])), ('biases', tensor([0.1888]))])\n",
      "Loss: 0.24375534057617188\n",
      "OrderedDict([('weights', tensor([0.3640])), ('biases', tensor([0.1988]))])\n",
      "Loss: 0.23223432898521423\n",
      "OrderedDict([('weights', tensor([0.3679])), ('biases', tensor([0.2088]))])\n",
      "Loss: 0.22071333229541779\n",
      "OrderedDict([('weights', tensor([0.3718])), ('biases', tensor([0.2188]))])\n",
      "Loss: 0.20919232070446014\n",
      "OrderedDict([('weights', tensor([0.3757])), ('biases', tensor([0.2288]))])\n",
      "Loss: 0.1976713389158249\n",
      "OrderedDict([('weights', tensor([0.3796])), ('biases', tensor([0.2388]))])\n",
      "Loss: 0.18615034222602844\n",
      "OrderedDict([('weights', tensor([0.3835])), ('biases', tensor([0.2488]))])\n",
      "Loss: 0.1746293157339096\n",
      "OrderedDict([('weights', tensor([0.3874])), ('biases', tensor([0.2588]))])\n",
      "Loss: 0.16310831904411316\n",
      "OrderedDict([('weights', tensor([0.3913])), ('biases', tensor([0.2688]))])\n",
      "Loss: 0.1515873372554779\n",
      "OrderedDict([('weights', tensor([0.3952])), ('biases', tensor([0.2788]))])\n",
      "Loss: 0.14006635546684265\n",
      "OrderedDict([('weights', tensor([0.3991])), ('biases', tensor([0.2888]))])\n",
      "Loss: 0.1285453587770462\n",
      "OrderedDict([('weights', tensor([0.4030])), ('biases', tensor([0.2988]))])\n",
      "Loss: 0.11702437698841095\n",
      "OrderedDict([('weights', tensor([0.4069])), ('biases', tensor([0.3088]))])\n",
      "Loss: 0.1060912162065506\n",
      "OrderedDict([('weights', tensor([0.4108])), ('biases', tensor([0.3178]))])\n",
      "Loss: 0.09681284427642822\n",
      "OrderedDict([('weights', tensor([0.4146])), ('biases', tensor([0.3258]))])\n",
      "Loss: 0.08908725529909134\n",
      "OrderedDict([('weights', tensor([0.4184])), ('biases', tensor([0.3333]))])\n",
      "Loss: 0.08227582275867462\n",
      "OrderedDict([('weights', tensor([0.4222])), ('biases', tensor([0.3403]))])\n",
      "Loss: 0.07638873159885406\n",
      "OrderedDict([('weights', tensor([0.4258])), ('biases', tensor([0.3463]))])\n",
      "Loss: 0.07160007953643799\n",
      "OrderedDict([('weights', tensor([0.4293])), ('biases', tensor([0.3518]))])\n",
      "Loss: 0.06747636944055557\n",
      "OrderedDict([('weights', tensor([0.4328])), ('biases', tensor([0.3568]))])\n",
      "Loss: 0.06395438313484192\n",
      "OrderedDict([('weights', tensor([0.4361])), ('biases', tensor([0.3613]))])\n",
      "Loss: 0.06097004562616348\n",
      "OrderedDict([('weights', tensor([0.4394])), ('biases', tensor([0.3653]))])\n",
      "Loss: 0.058458197861909866\n",
      "OrderedDict([('weights', tensor([0.4425])), ('biases', tensor([0.3688]))])\n",
      "Loss: 0.05635259300470352\n",
      "OrderedDict([('weights', tensor([0.4455])), ('biases', tensor([0.3718]))])\n",
      "Loss: 0.0545857772231102\n",
      "OrderedDict([('weights', tensor([0.4483])), ('biases', tensor([0.3743]))])\n",
      "Loss: 0.053148530423641205\n",
      "OrderedDict([('weights', tensor([0.4512])), ('biases', tensor([0.3768]))])\n",
      "Loss: 0.051819466054439545\n",
      "OrderedDict([('weights', tensor([0.4539])), ('biases', tensor([0.3788]))])\n",
      "Loss: 0.05069301277399063\n",
      "OrderedDict([('weights', tensor([0.4564])), ('biases', tensor([0.3803]))])\n",
      "Loss: 0.0498228557407856\n",
      "OrderedDict([('weights', tensor([0.4590])), ('biases', tensor([0.3818]))])\n",
      "Loss: 0.04895269125699997\n",
      "OrderedDict([('weights', tensor([0.4615])), ('biases', tensor([0.3833]))])\n",
      "Loss: 0.04819351062178612\n",
      "OrderedDict([('weights', tensor([0.4639])), ('biases', tensor([0.3843]))])\n",
      "Loss: 0.047531817108392715\n",
      "OrderedDict([('weights', tensor([0.4662])), ('biases', tensor([0.3853]))])\n",
      "Loss: 0.04692792519927025\n",
      "OrderedDict([('weights', tensor([0.4684])), ('biases', tensor([0.3858]))])\n",
      "Loss: 0.04642331972718239\n",
      "OrderedDict([('weights', tensor([0.4706])), ('biases', tensor([0.3863]))])\n",
      "Loss: 0.04591871425509453\n",
      "OrderedDict([('weights', tensor([0.4728])), ('biases', tensor([0.3868]))])\n",
      "Loss: 0.04543796554207802\n",
      "OrderedDict([('weights', tensor([0.4748])), ('biases', tensor([0.3868]))])\n",
      "Loss: 0.04503796622157097\n",
      "OrderedDict([('weights', tensor([0.4768])), ('biases', tensor([0.3868]))])\n",
      "Loss: 0.04463795945048332\n",
      "OrderedDict([('weights', tensor([0.4788])), ('biases', tensor([0.3868]))])\n",
      "Loss: 0.04423796758055687\n",
      "OrderedDict([('weights', tensor([0.4808])), ('biases', tensor([0.3868]))])\n",
      "Loss: 0.04383796080946922\n",
      "OrderedDict([('weights', tensor([0.4828])), ('biases', tensor([0.3868]))])\n",
      "Loss: 0.04343796521425247\n",
      "OrderedDict([('weights', tensor([0.4848])), ('biases', tensor([0.3868]))])\n",
      "Loss: 0.043074630200862885\n",
      "OrderedDict([('weights', tensor([0.4866])), ('biases', tensor([0.3863]))])\n",
      "Loss: 0.04272563010454178\n",
      "OrderedDict([('weights', tensor([0.4884])), ('biases', tensor([0.3858]))])\n",
      "Loss: 0.04237663745880127\n",
      "OrderedDict([('weights', tensor([0.4902])), ('biases', tensor([0.3853]))])\n",
      "Loss: 0.042027633637189865\n",
      "OrderedDict([('weights', tensor([0.4920])), ('biases', tensor([0.3848]))])\n",
      "Loss: 0.04167863354086876\n",
      "OrderedDict([('weights', tensor([0.4938])), ('biases', tensor([0.3843]))])\n",
      "Loss: 0.04132963344454765\n",
      "OrderedDict([('weights', tensor([0.4956])), ('biases', tensor([0.3838]))])\n",
      "Loss: 0.040980637073516846\n",
      "OrderedDict([('weights', tensor([0.4974])), ('biases', tensor([0.3833]))])\n",
      "Loss: 0.04063163325190544\n",
      "OrderedDict([('weights', tensor([0.4992])), ('biases', tensor([0.3828]))])\n",
      "Loss: 0.04028264060616493\n",
      "OrderedDict([('weights', tensor([0.5010])), ('biases', tensor([0.3823]))])\n",
      "Loss: 0.039933644235134125\n",
      "OrderedDict([('weights', tensor([0.5028])), ('biases', tensor([0.3818]))])\n",
      "Loss: 0.03958464413881302\n",
      "OrderedDict([('weights', tensor([0.5046])), ('biases', tensor([0.3813]))])\n",
      "Loss: 0.03923564404249191\n",
      "OrderedDict([('weights', tensor([0.5064])), ('biases', tensor([0.3808]))])\n",
      "Loss: 0.03888664022088051\n",
      "OrderedDict([('weights', tensor([0.5082])), ('biases', tensor([0.3803]))])\n",
      "Loss: 0.0385376438498497\n",
      "OrderedDict([('weights', tensor([0.5100])), ('biases', tensor([0.3798]))])\n",
      "Loss: 0.03818932920694351\n",
      "OrderedDict([('weights', tensor([0.5116])), ('biases', tensor([0.3788]))])\n",
      "Loss: 0.037852440029382706\n",
      "OrderedDict([('weights', tensor([0.5134])), ('biases', tensor([0.3783]))])\n",
      "Loss: 0.0375034399330616\n",
      "OrderedDict([('weights', tensor([0.5152])), ('biases', tensor([0.3778]))])\n",
      "Loss: 0.037164121866226196\n",
      "OrderedDict([('weights', tensor([0.5168])), ('biases', tensor([0.3768]))])\n",
      "Loss: 0.03681822493672371\n",
      "OrderedDict([('weights', tensor([0.5186])), ('biases', tensor([0.3763]))])\n",
      "Loss: 0.03647511824965477\n",
      "OrderedDict([('weights', tensor([0.5202])), ('biases', tensor([0.3753]))])\n",
      "Loss: 0.03613303601741791\n",
      "OrderedDict([('weights', tensor([0.5220])), ('biases', tensor([0.3748]))])\n",
      "Loss: 0.03578609973192215\n",
      "OrderedDict([('weights', tensor([0.5236])), ('biases', tensor([0.3738]))])\n",
      "Loss: 0.035447828471660614\n",
      "OrderedDict([('weights', tensor([0.5254])), ('biases', tensor([0.3733]))])\n",
      "Loss: 0.035098832100629807\n",
      "OrderedDict([('weights', tensor([0.5272])), ('biases', tensor([0.3728]))])\n",
      "Loss: 0.03476089984178543\n",
      "OrderedDict([('weights', tensor([0.5288])), ('biases', tensor([0.3718]))])\n",
      "Loss: 0.03441363200545311\n",
      "OrderedDict([('weights', tensor([0.5306])), ('biases', tensor([0.3713]))])\n",
      "Loss: 0.03407188504934311\n",
      "OrderedDict([('weights', tensor([0.5322])), ('biases', tensor([0.3703]))])\n",
      "Loss: 0.03372843936085701\n",
      "OrderedDict([('weights', tensor([0.5340])), ('biases', tensor([0.3698]))])\n",
      "Loss: 0.03338287025690079\n",
      "OrderedDict([('weights', tensor([0.5355])), ('biases', tensor([0.3688]))])\n",
      "Loss: 0.03304322808980942\n",
      "OrderedDict([('weights', tensor([0.5373])), ('biases', tensor([0.3683]))])\n",
      "Loss: 0.03269422799348831\n",
      "OrderedDict([('weights', tensor([0.5391])), ('biases', tensor([0.3678]))])\n",
      "Loss: 0.03235765919089317\n",
      "OrderedDict([('weights', tensor([0.5407])), ('biases', tensor([0.3668]))])\n",
      "Loss: 0.03200903534889221\n",
      "OrderedDict([('weights', tensor([0.5425])), ('biases', tensor([0.3663]))])\n",
      "Loss: 0.03166864812374115\n",
      "OrderedDict([('weights', tensor([0.5441])), ('biases', tensor([0.3653]))])\n",
      "Loss: 0.03132382780313492\n",
      "OrderedDict([('weights', tensor([0.5459])), ('biases', tensor([0.3648]))])\n",
      "Loss: 0.030979642644524574\n",
      "OrderedDict([('weights', tensor([0.5475])), ('biases', tensor([0.3638]))])\n",
      "Loss: 0.030638623982667923\n",
      "OrderedDict([('weights', tensor([0.5493])), ('biases', tensor([0.3633]))])\n",
      "Loss: 0.030290639027953148\n",
      "OrderedDict([('weights', tensor([0.5509])), ('biases', tensor([0.3623]))])\n",
      "Loss: 0.029953423887491226\n",
      "OrderedDict([('weights', tensor([0.5527])), ('biases', tensor([0.3618]))])\n",
      "Loss: 0.02960442379117012\n",
      "OrderedDict([('weights', tensor([0.5545])), ('biases', tensor([0.3613]))])\n",
      "Loss: 0.029265422374010086\n",
      "OrderedDict([('weights', tensor([0.5561])), ('biases', tensor([0.3603]))])\n",
      "Loss: 0.028919219970703125\n",
      "OrderedDict([('weights', tensor([0.5579])), ('biases', tensor([0.3598]))])\n",
      "Loss: 0.028576409444212914\n",
      "OrderedDict([('weights', tensor([0.5595])), ('biases', tensor([0.3588]))])\n",
      "Loss: 0.028234023600816727\n",
      "OrderedDict([('weights', tensor([0.5613])), ('biases', tensor([0.3583]))])\n",
      "Loss: 0.027887403964996338\n",
      "OrderedDict([('weights', tensor([0.5629])), ('biases', tensor([0.3573]))])\n",
      "Loss: 0.027548829093575478\n",
      "OrderedDict([('weights', tensor([0.5647])), ('biases', tensor([0.3568]))])\n",
      "Loss: 0.027199815958738327\n",
      "OrderedDict([('weights', tensor([0.5665])), ('biases', tensor([0.3563]))])\n",
      "Loss: 0.026862192898988724\n",
      "OrderedDict([('weights', tensor([0.5681])), ('biases', tensor([0.3553]))])\n",
      "Loss: 0.02651461958885193\n",
      "OrderedDict([('weights', tensor([0.5699])), ('biases', tensor([0.3548]))])\n",
      "Loss: 0.02617317996919155\n",
      "OrderedDict([('weights', tensor([0.5715])), ('biases', tensor([0.3538]))])\n",
      "Loss: 0.025829419493675232\n",
      "OrderedDict([('weights', tensor([0.5733])), ('biases', tensor([0.3533]))])\n",
      "Loss: 0.02548416517674923\n",
      "OrderedDict([('weights', tensor([0.5748])), ('biases', tensor([0.3523]))])\n",
      "Loss: 0.025144219398498535\n",
      "OrderedDict([('weights', tensor([0.5766])), ('biases', tensor([0.3518]))])\n",
      "Loss: 0.02479521557688713\n",
      "OrderedDict([('weights', tensor([0.5784])), ('biases', tensor([0.3513]))])\n",
      "Loss: 0.024458955973386765\n",
      "OrderedDict([('weights', tensor([0.5800])), ('biases', tensor([0.3503]))])\n"
     ]
    }
   ],
   "source": [
    "#building a training loop\n",
    "\n",
    "epochs = 100\n",
    "\n",
    "for epoch in range(epochs):\n",
    "    model_0.train()\n",
    "    y_pred = model_0(X_train)\n",
    "    loss1 = loss(y_pred, y_train)\n",
    "    print(f\"Loss: {loss1}\")\n",
    "    optimizer.zero_grad()\n",
    "    loss1.backward()\n",
    "    optimizer.step()\n",
    "    print(model_0.state_dict())\n",
    "    "
   ]
  },
  {
   "cell_type": "code",
   "execution_count": 95,
   "id": "950dafb5",
   "metadata": {},
   "outputs": [
    {
     "data": {
      "text/plain": [
       "(0.7, 0.3)"
      ]
     },
     "execution_count": 95,
     "metadata": {},
     "output_type": "execute_result"
    }
   ],
   "source": [
    "weight, bias"
   ]
  },
  {
   "cell_type": "code",
   "execution_count": 101,
   "id": "58f4dfa3",
   "metadata": {},
   "outputs": [
    {
     "name": "stdout",
     "output_type": "stream",
     "text": [
      "tensor([[0.8143],\n",
      "        [0.8259],\n",
      "        [0.8375],\n",
      "        [0.8491],\n",
      "        [0.8607],\n",
      "        [0.8723],\n",
      "        [0.8839],\n",
      "        [0.8955],\n",
      "        [0.9071],\n",
      "        [0.9187]])\n"
     ]
    }
   ],
   "source": [
    "with torch.inference_mode():\n",
    "    y_preds_new = model_0(X_test)\n",
    "\n",
    "print(y_preds_new)"
   ]
  },
  {
   "cell_type": "code",
   "execution_count": 102,
   "id": "7ad4ea43",
   "metadata": {},
   "outputs": [
    {
     "data": {
      "image/png": "[encoded data removed]",
      "text/plain": [
       "<Figure size 1000x700 with 1 Axes>"
      ]
     },
     "metadata": {},
     "output_type": "display_data"
    }
   ],
   "source": [
    "plot_prediction(predictions=y_preds_new)"
   ]
  },
  {
   "cell_type": "code",
   "execution_count": null,
   "id": "54206e53",
   "metadata": {},
   "outputs": [],
   "source": []
  }
 ],
 "metadata": {
  "kernelspec": {
   "display_name": "ai",
   "language": "python",
   "name": "python3"
  },
  "language_info": {
   "codemirror_mode": {
    "name": "ipython",
    "version": 3
   },
   "file_extension": ".py",
   "mimetype": "text/x-python",
   "name": "python",
   "nbconvert_exporter": "python",
   "pygments_lexer": "ipython3",
   "version": "3.11.13"
  }
 },
 "nbformat": 4,
 "nbformat_minor": 5
}

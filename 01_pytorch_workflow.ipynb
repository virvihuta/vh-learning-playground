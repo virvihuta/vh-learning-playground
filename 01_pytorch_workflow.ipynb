{
 "cells": [
  {
   "cell_type": "code",
   "execution_count": 44,
   "id": "7873456a",
   "metadata": {},
   "outputs": [],
   "source": [
    "#prepare data\n",
    "#build model\n",
    "#fit data\n",
    "#make predictions evaluate"
   ]
  },
  {
   "cell_type": "code",
   "execution_count": 71,
   "id": "cc098494",
   "metadata": {},
   "outputs": [],
   "source": [
    "import torch\n",
    "from torch import nn\n",
    "import matplotlib.pyplot as plt"
   ]
  },
  {
   "cell_type": "code",
   "execution_count": 72,
   "id": "8ad6cc34",
   "metadata": {},
   "outputs": [],
   "source": [
    "#data preparing\n",
    "\n",
    "weight = 0.7\n",
    "bias = 0.3\n",
    "\n",
    "start = 0\n",
    "end = 1\n",
    "step = 0.02\n",
    "X = torch.arange(start, end, step).unsqueeze(dim=1)\n",
    "y = weight*X+bias"
   ]
  },
  {
   "cell_type": "code",
   "execution_count": 73,
   "id": "e03f9ec3",
   "metadata": {},
   "outputs": [
    {
     "data": {
      "text/plain": [
       "(tensor([[0.0000],\n",
       "         [0.0200],\n",
       "         [0.0400],\n",
       "         [0.0600],\n",
       "         [0.0800],\n",
       "         [0.1000],\n",
       "         [0.1200],\n",
       "         [0.1400],\n",
       "         [0.1600],\n",
       "         [0.1800]]),\n",
       " tensor([[0.3000],\n",
       "         [0.3140],\n",
       "         [0.3280],\n",
       "         [0.3420],\n",
       "         [0.3560],\n",
       "         [0.3700],\n",
       "         [0.3840],\n",
       "         [0.3980],\n",
       "         [0.4120],\n",
       "         [0.4260]]))"
      ]
     },
     "execution_count": 73,
     "metadata": {},
     "output_type": "execute_result"
    }
   ],
   "source": [
    "X[:10], y[:10]"
   ]
  },
  {
   "cell_type": "code",
   "execution_count": 74,
   "id": "e75621c0",
   "metadata": {},
   "outputs": [],
   "source": [
    "#splitting data into training and testing\n",
    "\n",
    "train_split = int(0.8 * len(X))\n",
    "X_train, y_train = X[:train_split], y[:train_split]\n",
    "X_test, y_test = X[train_split:], y[train_split:]\n"
   ]
  },
  {
   "cell_type": "code",
   "execution_count": 75,
   "id": "120244e4",
   "metadata": {},
   "outputs": [
    {
     "data": {
      "text/plain": [
       "(tensor([[0.0000],\n",
       "         [0.0200],\n",
       "         [0.0400],\n",
       "         [0.0600],\n",
       "         [0.0800],\n",
       "         [0.1000],\n",
       "         [0.1200],\n",
       "         [0.1400],\n",
       "         [0.1600],\n",
       "         [0.1800],\n",
       "         [0.2000],\n",
       "         [0.2200],\n",
       "         [0.2400],\n",
       "         [0.2600],\n",
       "         [0.2800],\n",
       "         [0.3000],\n",
       "         [0.3200],\n",
       "         [0.3400],\n",
       "         [0.3600],\n",
       "         [0.3800],\n",
       "         [0.4000],\n",
       "         [0.4200],\n",
       "         [0.4400],\n",
       "         [0.4600],\n",
       "         [0.4800],\n",
       "         [0.5000],\n",
       "         [0.5200],\n",
       "         [0.5400],\n",
       "         [0.5600],\n",
       "         [0.5800],\n",
       "         [0.6000],\n",
       "         [0.6200],\n",
       "         [0.6400],\n",
       "         [0.6600],\n",
       "         [0.6800],\n",
       "         [0.7000],\n",
       "         [0.7200],\n",
       "         [0.7400],\n",
       "         [0.7600],\n",
       "         [0.7800]]),\n",
       " tensor([[0.3000],\n",
       "         [0.3140],\n",
       "         [0.3280],\n",
       "         [0.3420],\n",
       "         [0.3560],\n",
       "         [0.3700],\n",
       "         [0.3840],\n",
       "         [0.3980],\n",
       "         [0.4120],\n",
       "         [0.4260],\n",
       "         [0.4400],\n",
       "         [0.4540],\n",
       "         [0.4680],\n",
       "         [0.4820],\n",
       "         [0.4960],\n",
       "         [0.5100],\n",
       "         [0.5240],\n",
       "         [0.5380],\n",
       "         [0.5520],\n",
       "         [0.5660],\n",
       "         [0.5800],\n",
       "         [0.5940],\n",
       "         [0.6080],\n",
       "         [0.6220],\n",
       "         [0.6360],\n",
       "         [0.6500],\n",
       "         [0.6640],\n",
       "         [0.6780],\n",
       "         [0.6920],\n",
       "         [0.7060],\n",
       "         [0.7200],\n",
       "         [0.7340],\n",
       "         [0.7480],\n",
       "         [0.7620],\n",
       "         [0.7760],\n",
       "         [0.7900],\n",
       "         [0.8040],\n",
       "         [0.8180],\n",
       "         [0.8320],\n",
       "         [0.8460]]))"
      ]
     },
     "execution_count": 75,
     "metadata": {},
     "output_type": "execute_result"
    }
   ],
   "source": [
    "X_train, y_train"
   ]
  },
  {
   "cell_type": "code",
   "execution_count": 76,
   "id": "c9eb3582",
   "metadata": {},
   "outputs": [],
   "source": [
    "#plot prediction \n",
    "\n",
    "def plot_prediction(train_data = X_train, train_labels = y_train, test_data = X_test, test_labels = y_test, predictions = None):\n",
    "    plt.figure(figsize=(10,7))\n",
    "    plt.scatter(train_data, train_labels, c='b', s=4, label='Training Data')\n",
    "    plt.scatter(test_data, test_labels, c='g', s=4, label='Testing Data')\n",
    "    if predictions is not None:\n",
    "        plt.scatter(test_data, predictions, c='r', s=4, label=\"Predictions\")\n",
    "    plt.legend(prop={\"size\":14})"
   ]
  },
  {
   "cell_type": "code",
   "execution_count": 77,
   "id": "5fc5f87e",
   "metadata": {},
   "outputs": [
    {
     "data": {
      "image/png": "[encoded data removed]",
      "text/plain": [
       "<Figure size 1000x700 with 1 Axes>"
      ]
     },
     "metadata": {},
     "output_type": "display_data"
    }
   ],
   "source": [
    "plot_prediction()"
   ]
  },
  {
   "cell_type": "code",
   "execution_count": 78,
   "id": "793535e9",
   "metadata": {},
   "outputs": [],
   "source": [
    "#building a model\n",
    "\n",
    "class LinearRegressionModel(nn.Module):\n",
    "    def __init__(self):\n",
    "        super().__init__()\n",
    "        self.weights = nn.Parameter(torch.randn(1, requires_grad=True, dtype=torch.float))\n",
    "        self.biases = nn.Parameter(torch.randn(1, requires_grad=True, dtype=torch.float))\n",
    "    def forward(self, x: torch.Tensor) -> torch.Tensor:\n",
    "            return self.weights * x + self.biases"
   ]
  },
  {
   "cell_type": "code",
   "execution_count": 79,
   "id": "2bd23852",
   "metadata": {},
   "outputs": [
    {
     "data": {
      "text/plain": [
       "LinearRegressionModel()"
      ]
     },
     "execution_count": 79,
     "metadata": {},
     "output_type": "execute_result"
    }
   ],
   "source": [
    "#pytorch model building essentials\n",
    "#Checking the contents of our pytorch model\n",
    "\n",
    "torch.manual_seed(42)\n",
    "\n",
    "model_0 = LinearRegressionModel()\n",
    "model_0"
   ]
  },
  {
   "cell_type": "code",
   "execution_count": 80,
   "id": "0941b601",
   "metadata": {},
   "outputs": [
    {
     "data": {
      "text/plain": [
       "[Parameter containing:\n",
       " tensor([0.3367], requires_grad=True),\n",
       " Parameter containing:\n",
       " tensor([0.1288], requires_grad=True)]"
      ]
     },
     "execution_count": 80,
     "metadata": {},
     "output_type": "execute_result"
    }
   ],
   "source": [
    "list(model_0.parameters())"
   ]
  },
  {
   "cell_type": "code",
   "execution_count": 81,
   "id": "1726349e",
   "metadata": {},
   "outputs": [
    {
     "data": {
      "text/plain": [
       "OrderedDict([('weights', tensor([0.3367])), ('biases', tensor([0.1288]))])"
      ]
     },
     "execution_count": 81,
     "metadata": {},
     "output_type": "execute_result"
    }
   ],
   "source": [
    "model_0.state_dict()"
   ]
  },
  {
   "cell_type": "code",
   "execution_count": 82,
   "id": "7320070c",
   "metadata": {},
   "outputs": [
    {
     "data": {
      "text/plain": [
       "(0.7, 0.3)"
      ]
     },
     "execution_count": 82,
     "metadata": {},
     "output_type": "execute_result"
    }
   ],
   "source": [
    "weight, bias"
   ]
  },
  {
   "cell_type": "code",
   "execution_count": 83,
   "id": "040f10b1",
   "metadata": {},
   "outputs": [
    {
     "data": {
      "text/plain": [
       "tensor([[0.3982],\n",
       "        [0.4049],\n",
       "        [0.4116],\n",
       "        [0.4184],\n",
       "        [0.4251],\n",
       "        [0.4318],\n",
       "        [0.4386],\n",
       "        [0.4453],\n",
       "        [0.4520],\n",
       "        [0.4588]])"
      ]
     },
     "execution_count": 83,
     "metadata": {},
     "output_type": "execute_result"
    }
   ],
   "source": [
    "with torch.inference_mode():\n",
    "    y_pred = model_0(X_test)\n",
    "\n",
    "y_pred"
   ]
  },
  {
   "cell_type": "code",
   "execution_count": 84,
   "id": "99a147ee",
   "metadata": {},
   "outputs": [
    {
     "data": {
      "text/plain": [
       "tensor([[0.8600],\n",
       "        [0.8740],\n",
       "        [0.8880],\n",
       "        [0.9020],\n",
       "        [0.9160],\n",
       "        [0.9300],\n",
       "        [0.9440],\n",
       "        [0.9580],\n",
       "        [0.9720],\n",
       "        [0.9860]])"
      ]
     },
     "execution_count": 84,
     "metadata": {},
     "output_type": "execute_result"
    }
   ],
   "source": [
    "y_test"
   ]
  },
  {
   "cell_type": "code",
   "execution_count": 85,
   "id": "a3079d72",
   "metadata": {},
   "outputs": [
    {
     "data": {
      "image/png": "[encoded data removed]",
      "text/plain": [
       "<Figure size 1000x700 with 1 Axes>"
      ]
     },
     "metadata": {},
     "output_type": "display_data"
    }
   ],
   "source": [
    "plot_prediction(predictions=y_pred)"
   ]
  },
  {
   "cell_type": "code",
   "execution_count": 86,
   "id": "d7fe072f",
   "metadata": {},
   "outputs": [
    {
     "data": {
      "text/plain": [
       "OrderedDict([('weights', tensor([0.3367])), ('biases', tensor([0.1288]))])"
      ]
     },
     "execution_count": 86,
     "metadata": {},
     "output_type": "execute_result"
    }
   ],
   "source": [
    "#training the model\n",
    "\n",
    "model_0.state_dict()"
   ]
  },
  {
   "cell_type": "code",
   "execution_count": 87,
   "id": "520cf138",
   "metadata": {},
   "outputs": [
    {
     "data": {
      "text/plain": [
       "L1Loss()"
      ]
     },
     "execution_count": 87,
     "metadata": {},
     "output_type": "execute_result"
    }
   ],
   "source": [
    "loss = torch.nn.L1Loss()\n",
    "loss"
   ]
  },
  {
   "cell_type": "code",
   "execution_count": 88,
   "id": "c351feae",
   "metadata": {},
   "outputs": [
    {
     "data": {
      "text/plain": [
       "SGD (\n",
       "Parameter Group 0\n",
       "    dampening: 0\n",
       "    differentiable: False\n",
       "    foreach: None\n",
       "    fused: None\n",
       "    lr: 0.01\n",
       "    maximize: False\n",
       "    momentum: 0\n",
       "    nesterov: False\n",
       "    weight_decay: 0\n",
       ")"
      ]
     },
     "execution_count": 88,
     "metadata": {},
     "output_type": "execute_result"
    }
   ],
   "source": [
    "optimizer = torch.optim.SGD(model_0.parameters(), lr=0.01)\n",
    "optimizer"
   ]
  },
  {
   "cell_type": "code",
   "execution_count": 89,
   "id": "3c3efeb9",
   "metadata": {},
   "outputs": [
    {
     "name": "stdout",
     "output_type": "stream",
     "text": [
      "Loss: 0.31288135051727295\n",
      "Epoch: 0 | Loss: 0.31288135051727295 | Test Loss: 0.48106518387794495\n",
      "OrderedDict([('weights', tensor([0.3406])), ('biases', tensor([0.1388]))])\n",
      "Loss: 0.3013603687286377\n",
      "Loss: 0.28983935713768005\n",
      "Loss: 0.2783183455467224\n",
      "Loss: 0.26679736375808716\n",
      "Loss: 0.2552763521671295\n",
      "Loss: 0.24375534057617188\n",
      "Loss: 0.23223432898521423\n",
      "Loss: 0.22071333229541779\n",
      "Loss: 0.20919232070446014\n",
      "Loss: 0.1976713389158249\n",
      "Epoch: 10 | Loss: 0.1976713389158249 | Test Loss: 0.3463551998138428\n",
      "OrderedDict([('weights', tensor([0.3796])), ('biases', tensor([0.2388]))])\n",
      "Loss: 0.18615034222602844\n",
      "Loss: 0.1746293157339096\n",
      "Loss: 0.16310831904411316\n",
      "Loss: 0.1515873372554779\n",
      "Loss: 0.14006635546684265\n",
      "Loss: 0.1285453587770462\n",
      "Loss: 0.11702437698841095\n",
      "Loss: 0.1060912162065506\n",
      "Loss: 0.09681284427642822\n",
      "Loss: 0.08908725529909134\n",
      "Epoch: 20 | Loss: 0.08908725529909134 | Test Loss: 0.2172965705394745\n",
      "OrderedDict([('weights', tensor([0.4184])), ('biases', tensor([0.3333]))])\n",
      "Loss: 0.08227582275867462\n",
      "Loss: 0.07638873159885406\n",
      "Loss: 0.07160007953643799\n",
      "Loss: 0.06747636944055557\n",
      "Loss: 0.06395438313484192\n",
      "Loss: 0.06097004562616348\n",
      "Loss: 0.058458197861909866\n",
      "Loss: 0.05635259300470352\n",
      "Loss: 0.0545857772231102\n",
      "Loss: 0.053148530423641205\n",
      "Epoch: 30 | Loss: 0.053148530423641205 | Test Loss: 0.14464019238948822\n",
      "OrderedDict([('weights', tensor([0.4512])), ('biases', tensor([0.3768]))])\n",
      "Loss: 0.051819466054439545\n",
      "Loss: 0.05069301277399063\n",
      "Loss: 0.0498228557407856\n",
      "Loss: 0.04895269125699997\n",
      "Loss: 0.04819351062178612\n",
      "Loss: 0.047531817108392715\n",
      "Loss: 0.04692792519927025\n",
      "Loss: 0.04642331972718239\n",
      "Loss: 0.04591871425509453\n",
      "Loss: 0.04543796554207802\n",
      "Epoch: 40 | Loss: 0.04543796554207802 | Test Loss: 0.11360953748226166\n",
      "OrderedDict([('weights', tensor([0.4748])), ('biases', tensor([0.3868]))])\n",
      "Loss: 0.04503796622157097\n",
      "Loss: 0.04463795945048332\n",
      "Loss: 0.04423796758055687\n",
      "Loss: 0.04383796080946922\n",
      "Loss: 0.04343796521425247\n",
      "Loss: 0.043074630200862885\n",
      "Loss: 0.04272563010454178\n",
      "Loss: 0.04237663745880127\n",
      "Loss: 0.042027633637189865\n",
      "Loss: 0.04167863354086876\n",
      "Epoch: 50 | Loss: 0.04167863354086876 | Test Loss: 0.09919948130846024\n",
      "OrderedDict([('weights', tensor([0.4938])), ('biases', tensor([0.3843]))])\n",
      "Loss: 0.04132963344454765\n",
      "Loss: 0.040980637073516846\n",
      "Loss: 0.04063163325190544\n",
      "Loss: 0.04028264060616493\n",
      "Loss: 0.039933644235134125\n",
      "Loss: 0.03958464413881302\n",
      "Loss: 0.03923564404249191\n",
      "Loss: 0.03888664022088051\n",
      "Loss: 0.0385376438498497\n",
      "Loss: 0.03818932920694351\n",
      "Epoch: 60 | Loss: 0.03818932920694351 | Test Loss: 0.08886633813381195\n",
      "OrderedDict([('weights', tensor([0.5116])), ('biases', tensor([0.3788]))])\n",
      "Loss: 0.037852440029382706\n",
      "Loss: 0.0375034399330616\n",
      "Loss: 0.037164121866226196\n",
      "Loss: 0.03681822493672371\n",
      "Loss: 0.03647511824965477\n",
      "Loss: 0.03613303601741791\n",
      "Loss: 0.03578609973192215\n",
      "Loss: 0.035447828471660614\n",
      "Loss: 0.035098832100629807\n",
      "Loss: 0.03476089984178543\n",
      "Epoch: 70 | Loss: 0.03476089984178543 | Test Loss: 0.0805937722325325\n",
      "OrderedDict([('weights', tensor([0.5288])), ('biases', tensor([0.3718]))])\n",
      "Loss: 0.03441363200545311\n",
      "Loss: 0.03407188504934311\n",
      "Loss: 0.03372843936085701\n",
      "Loss: 0.03338287025690079\n",
      "Loss: 0.03304322808980942\n",
      "Loss: 0.03269422799348831\n",
      "Loss: 0.03235765919089317\n",
      "Loss: 0.03200903534889221\n",
      "Loss: 0.03166864812374115\n",
      "Loss: 0.03132382780313492\n",
      "Epoch: 80 | Loss: 0.03132382780313492 | Test Loss: 0.07232122868299484\n",
      "OrderedDict([('weights', tensor([0.5459])), ('biases', tensor([0.3648]))])\n",
      "Loss: 0.030979642644524574\n",
      "Loss: 0.030638623982667923\n",
      "Loss: 0.030290639027953148\n",
      "Loss: 0.029953423887491226\n",
      "Loss: 0.02960442379117012\n",
      "Loss: 0.029265422374010086\n",
      "Loss: 0.028919219970703125\n",
      "Loss: 0.028576409444212914\n",
      "Loss: 0.028234023600816727\n",
      "Loss: 0.027887403964996338\n",
      "Epoch: 90 | Loss: 0.027887403964996338 | Test Loss: 0.06473556160926819\n",
      "OrderedDict([('weights', tensor([0.5629])), ('biases', tensor([0.3573]))])\n",
      "Loss: 0.027548829093575478\n",
      "Loss: 0.027199815958738327\n",
      "Loss: 0.026862192898988724\n",
      "Loss: 0.02651461958885193\n",
      "Loss: 0.02617317996919155\n",
      "Loss: 0.025829419493675232\n",
      "Loss: 0.02548416517674923\n",
      "Loss: 0.025144219398498535\n",
      "Loss: 0.02479521557688713\n",
      "Loss: 0.024458955973386765\n",
      "Epoch: 100 | Loss: 0.024458955973386765 | Test Loss: 0.056463055312633514\n",
      "OrderedDict([('weights', tensor([0.5800])), ('biases', tensor([0.3503]))])\n",
      "Loss: 0.024110015481710434\n",
      "Loss: 0.02376995049417019\n",
      "Loss: 0.023424813523888588\n",
      "Loss: 0.023080935701727867\n",
      "Loss: 0.022739604115486145\n",
      "Loss: 0.022391926497220993\n",
      "Loss: 0.022054409608244896\n",
      "Loss: 0.02170540764927864\n",
      "Loss: 0.021366721019148827\n",
      "Loss: 0.021020209416747093\n",
      "Epoch: 110 | Loss: 0.021020209416747093 | Test Loss: 0.04819049686193466\n",
      "OrderedDict([('weights', tensor([0.5972])), ('biases', tensor([0.3433]))])\n",
      "Loss: 0.020677709951996803\n",
      "Loss: 0.02033500373363495\n",
      "Loss: 0.01998870074748993\n",
      "Loss: 0.019649803638458252\n",
      "Loss: 0.019300809130072594\n",
      "Loss: 0.018963484093546867\n",
      "Loss: 0.018615607172250748\n",
      "Loss: 0.018274476751685143\n",
      "Loss: 0.017930403351783752\n",
      "Loss: 0.01758546754717827\n",
      "Epoch: 120 | Loss: 0.01758546754717827 | Test Loss: 0.04060482233762741\n",
      "OrderedDict([('weights', tensor([0.6141])), ('biases', tensor([0.3358]))])\n",
      "Loss: 0.017245203256607056\n",
      "Loss: 0.016896452754735947\n",
      "Loss: 0.01656000316143036\n",
      "Loss: 0.016210995614528656\n",
      "Loss: 0.01587124913930893\n",
      "Loss: 0.015525797381997108\n",
      "Loss: 0.01518223900347948\n",
      "Loss: 0.014840595424175262\n",
      "Loss: 0.01449323259294033\n",
      "Loss: 0.014155390672385693\n",
      "Epoch: 130 | Loss: 0.014155390672385693 | Test Loss: 0.03233228251338005\n",
      "OrderedDict([('weights', tensor([0.6313])), ('biases', tensor([0.3288]))])\n",
      "Loss: 0.01380639337003231\n",
      "Loss: 0.013468017801642418\n",
      "Loss: 0.013121192343533039\n",
      "Loss: 0.012779006734490395\n",
      "Loss: 0.012435990385711193\n",
      "Loss: 0.012089993804693222\n",
      "Loss: 0.01175079308450222\n",
      "Loss: 0.011401787400245667\n",
      "Loss: 0.01106478925794363\n",
      "Loss: 0.010716589167714119\n",
      "Epoch: 140 | Loss: 0.010716589167714119 | Test Loss: 0.024059753865003586\n",
      "OrderedDict([('weights', tensor([0.6485])), ('biases', tensor([0.3218]))])\n",
      "Loss: 0.010375778190791607\n",
      "Loss: 0.010031389072537422\n",
      "Loss: 0.00968676246702671\n",
      "Loss: 0.009346183389425278\n",
      "Loss: 0.00899775791913271\n",
      "Loss: 0.008660981431603432\n",
      "Loss: 0.008311985060572624\n",
      "Loss: 0.007972544990479946\n",
      "Loss: 0.007626780774444342\n",
      "Loss: 0.0072835348546504974\n",
      "Epoch: 150 | Loss: 0.0072835348546504974 | Test Loss: 0.016474086791276932\n",
      "OrderedDict([('weights', tensor([0.6654])), ('biases', tensor([0.3143]))])\n",
      "Loss: 0.0069415755569934845\n",
      "Loss: 0.006594527512788773\n",
      "Loss: 0.006256377790123224\n",
      "Loss: 0.005907376762479544\n",
      "Loss: 0.005569317378103733\n",
      "Loss: 0.005222178064286709\n",
      "Loss: 0.0048803044483065605\n",
      "Loss: 0.004536977503448725\n",
      "Loss: 0.004191299434751272\n",
      "Loss: 0.003851778106763959\n",
      "Epoch: 160 | Loss: 0.003851778106763959 | Test Loss: 0.008201557211577892\n",
      "OrderedDict([('weights', tensor([0.6826])), ('biases', tensor([0.3073]))])\n",
      "Loss: 0.003502772655338049\n",
      "Loss: 0.0031660839449614286\n",
      "Loss: 0.0028175734914839268\n",
      "Loss: 0.002477069851011038\n",
      "Loss: 0.0021323696710169315\n",
      "Loss: 0.0017880648374557495\n",
      "Loss: 0.0014518328243866563\n",
      "Loss: 0.001188774360343814\n",
      "Loss: 0.0025885074865072966\n",
      "Loss: 0.00893248151987791\n",
      "Epoch: 170 | Loss: 0.00893248151987791 | Test Loss: 0.005023092031478882\n",
      "OrderedDict([('weights', tensor([0.6951])), ('biases', tensor([0.2993]))])\n",
      "Loss: 0.0025885074865072966\n",
      "Loss: 0.00893248151987791\n",
      "Loss: 0.0025885074865072966\n",
      "Loss: 0.00893248151987791\n",
      "Loss: 0.0025885074865072966\n",
      "Loss: 0.00893248151987791\n",
      "Loss: 0.0025885074865072966\n",
      "Loss: 0.00893248151987791\n",
      "Loss: 0.0025885074865072966\n",
      "Loss: 0.00893248151987791\n",
      "Epoch: 180 | Loss: 0.00893248151987791 | Test Loss: 0.005023092031478882\n",
      "OrderedDict([('weights', tensor([0.6951])), ('biases', tensor([0.2993]))])\n",
      "Loss: 0.0025885074865072966\n",
      "Loss: 0.00893248151987791\n",
      "Loss: 0.0025885074865072966\n",
      "Loss: 0.00893248151987791\n",
      "Loss: 0.0025885074865072966\n",
      "Loss: 0.00893248151987791\n",
      "Loss: 0.0025885074865072966\n",
      "Loss: 0.00893248151987791\n",
      "Loss: 0.0025885074865072966\n",
      "Loss: 0.00893248151987791\n",
      "Epoch: 190 | Loss: 0.00893248151987791 | Test Loss: 0.005023092031478882\n",
      "OrderedDict([('weights', tensor([0.6951])), ('biases', tensor([0.2993]))])\n",
      "Loss: 0.0025885074865072966\n",
      "Loss: 0.00893248151987791\n",
      "Loss: 0.0025885074865072966\n",
      "Loss: 0.00893248151987791\n",
      "Loss: 0.0025885074865072966\n",
      "Loss: 0.00893248151987791\n",
      "Loss: 0.0025885074865072966\n",
      "Loss: 0.00893248151987791\n",
      "Loss: 0.0025885074865072966\n"
     ]
    }
   ],
   "source": [
    "#building a training loop\n",
    "\n",
    "epochs = 200\n",
    "\n",
    "epoch_count = []\n",
    "loss_values = []\n",
    "test_loss_values = []\n",
    "\n",
    "for epoch in range(epochs):\n",
    "    model_0.train()\n",
    "    y_pred = model_0(X_train)\n",
    "    loss1 = loss(y_pred, y_train)\n",
    "    print(f\"Loss: {loss1}\")\n",
    "    optimizer.zero_grad()\n",
    "    loss1.backward()\n",
    "    optimizer.step()\n",
    "    model_0.eval()\n",
    "    with torch.inference_mode():\n",
    "        test_pred = model_0(X_test)\n",
    "        test_loss = loss(test_pred, y_test) \n",
    "    if epoch % 10 == 0:\n",
    "        epoch_count.append(epoch)\n",
    "        loss_values.append(loss1)\n",
    "        test_loss_values.append(test_loss)\n",
    "        print(f'Epoch: {epoch} | Loss: {loss1} | Test Loss: {test_loss }')\n",
    "        print(model_0.state_dict())\n",
    "    "
   ]
  },
  {
   "cell_type": "code",
   "execution_count": 94,
   "id": "9436004d",
   "metadata": {},
   "outputs": [
    {
     "data": {
      "text/plain": [
       "<matplotlib.legend.Legend at 0x143feb650>"
      ]
     },
     "execution_count": 94,
     "metadata": {},
     "output_type": "execute_result"
    },
    {
     "data": {
      "image/png": "[encoded data removed]",
      "text/plain": [
       "<Figure size 640x480 with 1 Axes>"
      ]
     },
     "metadata": {},
     "output_type": "display_data"
    }
   ],
   "source": [
    "import numpy as np\n",
    "\n",
    "plt.plot(epoch_count, np.array(torch.tensor(loss_values).numpy()), label='Training Loss')\n",
    "plt.plot(epoch_count, np.array(torch.tensor(test_loss_values).numpy()), label='Testing Loss')\n",
    "plt.title('Testing and Training Loss Curves')\n",
    "plt.ylabel('Loss')\n",
    "plt.xlabel('Epochs')\n",
    "plt.legend()"
   ]
  },
  {
   "cell_type": "code",
   "execution_count": 90,
   "id": "950dafb5",
   "metadata": {},
   "outputs": [
    {
     "data": {
      "text/plain": [
       "(0.7, 0.3)"
      ]
     },
     "execution_count": 90,
     "metadata": {},
     "output_type": "execute_result"
    }
   ],
   "source": [
    "weight, bias"
   ]
  },
  {
   "cell_type": "code",
   "execution_count": 91,
   "id": "58f4dfa3",
   "metadata": {},
   "outputs": [
    {
     "name": "stdout",
     "output_type": "stream",
     "text": [
      "tensor([[0.8685],\n",
      "        [0.8825],\n",
      "        [0.8965],\n",
      "        [0.9105],\n",
      "        [0.9245],\n",
      "        [0.9384],\n",
      "        [0.9524],\n",
      "        [0.9664],\n",
      "        [0.9804],\n",
      "        [0.9944]])\n"
     ]
    }
   ],
   "source": [
    "with torch.inference_mode():\n",
    "    y_preds_new = model_0(X_test)\n",
    "\n",
    "print(y_preds_new)"
   ]
  },
  {
   "cell_type": "code",
   "execution_count": 92,
   "id": "7ad4ea43",
   "metadata": {},
   "outputs": [
    {
     "data": {
      "image/png": "[encoded data removed]",
      "text/plain": [
       "<Figure size 1000x700 with 1 Axes>"
      ]
     },
     "metadata": {},
     "output_type": "display_data"
    }
   ],
   "source": [
    "plot_prediction(predictions=y_preds_new)"
   ]
  },
  {
   "cell_type": "code",
   "execution_count": 97,
   "id": "54206e53",
   "metadata": {},
   "outputs": [
    {
     "data": {
      "text/plain": [
       "PosixPath('models/01_pytorch_workflow_model_0.pth')"
      ]
     },
     "execution_count": 97,
     "metadata": {},
     "output_type": "execute_result"
    }
   ],
   "source": [
    "#writing code to save a pytorch model\n",
    "\n",
    "from pathlib import Path\n",
    "\n",
    "MODEL_PATH = Path('models')\n",
    "MODEL_PATH.mkdir(parents=True, exist_ok=True)\n",
    "\n",
    "MODEL_NAME = '01_pytorch_workflow_model_0.pth'\n",
    "MODEL_SAVE_PATH = MODEL_PATH / MODEL_NAME\n",
    "\n",
    "MODEL_SAVE_PATH"
   ]
  },
  {
   "cell_type": "code",
   "execution_count": 98,
   "id": "40065bfe",
   "metadata": {},
   "outputs": [],
   "source": [
    "#save the model state dict\n",
    "\n",
    "torch.save(obj=model_0.state_dict(), f=MODEL_SAVE_PATH)"
   ]
  },
  {
   "cell_type": "code",
   "execution_count": 103,
   "id": "593e761e",
   "metadata": {},
   "outputs": [
    {
     "data": {
      "text/plain": [
       "OrderedDict([('weights', tensor([0.6990])), ('biases', tensor([0.3093]))])"
      ]
     },
     "execution_count": 103,
     "metadata": {},
     "output_type": "execute_result"
    }
   ],
   "source": [
    "#loading saved models\n",
    "\n",
    "model_0.state_dict()"
   ]
  },
  {
   "cell_type": "code",
   "execution_count": 112,
   "id": "4942a35f",
   "metadata": {},
   "outputs": [
    {
     "data": {
      "text/plain": [
       "OrderedDict([('weights', tensor([1.3525])), ('biases', tensor([0.6863]))])"
      ]
     },
     "execution_count": 112,
     "metadata": {},
     "output_type": "execute_result"
    }
   ],
   "source": [
    "loaded_model_0 = LinearRegressionModel()\n",
    "loaded_model_0.state_dict()"
   ]
  },
  {
   "cell_type": "code",
   "execution_count": 113,
   "id": "b929054f",
   "metadata": {},
   "outputs": [
    {
     "data": {
      "text/plain": [
       "<All keys matched successfully>"
      ]
     },
     "execution_count": 113,
     "metadata": {},
     "output_type": "execute_result"
    }
   ],
   "source": [
    "loaded_model_0.load_state_dict(torch.load(MODEL_SAVE_PATH))"
   ]
  },
  {
   "cell_type": "code",
   "execution_count": 114,
   "id": "9a9f715e",
   "metadata": {},
   "outputs": [
    {
     "data": {
      "text/plain": [
       "OrderedDict([('weights', tensor([0.6990])), ('biases', tensor([0.3093]))])"
      ]
     },
     "execution_count": 114,
     "metadata": {},
     "output_type": "execute_result"
    }
   ],
   "source": [
    "loaded_model_0.state_dict()"
   ]
  },
  {
   "cell_type": "code",
   "execution_count": 115,
   "id": "a5c14fa5",
   "metadata": {},
   "outputs": [
    {
     "data": {
      "text/plain": [
       "tensor([[0.8685],\n",
       "        [0.8825],\n",
       "        [0.8965],\n",
       "        [0.9105],\n",
       "        [0.9245],\n",
       "        [0.9384],\n",
       "        [0.9524],\n",
       "        [0.9664],\n",
       "        [0.9804],\n",
       "        [0.9944]])"
      ]
     },
     "execution_count": 115,
     "metadata": {},
     "output_type": "execute_result"
    }
   ],
   "source": [
    "loaded_model_0.eval()\n",
    "with torch.inference_mode():\n",
    "    loaded_model_0_preds = loaded_model_0(X_test)\n",
    "\n",
    "loaded_model_0_preds"
   ]
  },
  {
   "cell_type": "code",
   "execution_count": 117,
   "id": "f17c934d",
   "metadata": {},
   "outputs": [
    {
     "data": {
      "text/plain": [
       "tensor([[True],\n",
       "        [True],\n",
       "        [True],\n",
       "        [True],\n",
       "        [True],\n",
       "        [True],\n",
       "        [True],\n",
       "        [True],\n",
       "        [True],\n",
       "        [True]])"
      ]
     },
     "execution_count": 117,
     "metadata": {},
     "output_type": "execute_result"
    }
   ],
   "source": [
    "y_preds_new == loaded_model_0_preds"
   ]
  },
  {
   "cell_type": "code",
   "execution_count": null,
   "id": "c4544207",
   "metadata": {},
   "outputs": [],
   "source": []
  }
 ],
 "metadata": {
  "kernelspec": {
   "display_name": "ai",
   "language": "python",
   "name": "python3"
  },
  "language_info": {
   "codemirror_mode": {
    "name": "ipython",
    "version": 3
   },
   "file_extension": ".py",
   "mimetype": "text/x-python",
   "name": "python",
   "nbconvert_exporter": "python",
   "pygments_lexer": "ipython3",
   "version": "3.11.13"
  }
 },
 "nbformat": 4,
 "nbformat_minor": 5
}

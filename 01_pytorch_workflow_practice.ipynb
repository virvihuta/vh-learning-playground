{
 "cells": [
  {
   "cell_type": "code",
   "execution_count": 1,
   "id": "bc906c0e",
   "metadata": {},
   "outputs": [],
   "source": [
    "import torch\n",
    "from torch import nn\n",
    "import matplotlib.pyplot as plt"
   ]
  },
  {
   "cell_type": "code",
   "execution_count": 2,
   "id": "f0fd96b5",
   "metadata": {},
   "outputs": [],
   "source": [
    "weight = 0.7\n",
    "bias = 0.3\n",
    "start = 0\n",
    "end = 1\n",
    "step = 0.02\n",
    "X = torch.arange(start, end, step).unsqueeze(dim=1)\n",
    "y = weight * X + bias"
   ]
  },
  {
   "cell_type": "code",
   "execution_count": 5,
   "id": "c6b663d4",
   "metadata": {},
   "outputs": [
    {
     "data": {
      "text/plain": [
       "(tensor([[0.0000],\n",
       "         [0.0200],\n",
       "         [0.0400],\n",
       "         [0.0600],\n",
       "         [0.0800],\n",
       "         [0.1000],\n",
       "         [0.1200],\n",
       "         [0.1400],\n",
       "         [0.1600],\n",
       "         [0.1800]]),\n",
       " tensor([[0.3000],\n",
       "         [0.3140],\n",
       "         [0.3280],\n",
       "         [0.3420],\n",
       "         [0.3560],\n",
       "         [0.3700],\n",
       "         [0.3840],\n",
       "         [0.3980],\n",
       "         [0.4120],\n",
       "         [0.4260]]))"
      ]
     },
     "execution_count": 5,
     "metadata": {},
     "output_type": "execute_result"
    }
   ],
   "source": [
    "X[:10], y[:10]"
   ]
  },
  {
   "cell_type": "code",
   "execution_count": 6,
   "id": "20f21ad2",
   "metadata": {},
   "outputs": [],
   "source": [
    "train_split = int(0.8 * len(X))\n",
    "X_train, y_train = X[:train_split], y[:train_split]\n",
    "X_test, y_test = X[train_split:], y[train_split:]"
   ]
  },
  {
   "cell_type": "code",
   "execution_count": 7,
   "id": "ff802ce3",
   "metadata": {},
   "outputs": [
    {
     "data": {
      "text/plain": [
       "(tensor([[0.0000],\n",
       "         [0.0200],\n",
       "         [0.0400],\n",
       "         [0.0600],\n",
       "         [0.0800],\n",
       "         [0.1000],\n",
       "         [0.1200],\n",
       "         [0.1400],\n",
       "         [0.1600],\n",
       "         [0.1800]]),\n",
       " tensor([[0.3000],\n",
       "         [0.3140],\n",
       "         [0.3280],\n",
       "         [0.3420],\n",
       "         [0.3560],\n",
       "         [0.3700],\n",
       "         [0.3840],\n",
       "         [0.3980],\n",
       "         [0.4120],\n",
       "         [0.4260]]))"
      ]
     },
     "execution_count": 7,
     "metadata": {},
     "output_type": "execute_result"
    }
   ],
   "source": [
    "X_train[:10], y_train[:10]"
   ]
  },
  {
   "cell_type": "code",
   "execution_count": 8,
   "id": "086a7cd2",
   "metadata": {},
   "outputs": [
    {
     "data": {
      "text/plain": [
       "(tensor([[0.8000],\n",
       "         [0.8200],\n",
       "         [0.8400],\n",
       "         [0.8600],\n",
       "         [0.8800],\n",
       "         [0.9000],\n",
       "         [0.9200],\n",
       "         [0.9400],\n",
       "         [0.9600],\n",
       "         [0.9800]]),\n",
       " tensor([[0.8600],\n",
       "         [0.8740],\n",
       "         [0.8880],\n",
       "         [0.9020],\n",
       "         [0.9160],\n",
       "         [0.9300],\n",
       "         [0.9440],\n",
       "         [0.9580],\n",
       "         [0.9720],\n",
       "         [0.9860]]))"
      ]
     },
     "execution_count": 8,
     "metadata": {},
     "output_type": "execute_result"
    }
   ],
   "source": [
    "X_test[:10], y_test[:10]"
   ]
  },
  {
   "cell_type": "code",
   "execution_count": 11,
   "id": "72c5b7fa",
   "metadata": {},
   "outputs": [],
   "source": [
    "def plot_predictions(train_data=X_train, train_label=y_train, test_data=X_test, test_label=y_test, predictions=None):\n",
    "    plt.figure(figsize=(10,7))\n",
    "    plt.scatter(train_data, train_label, c='b', label='Training Data')\n",
    "    plt.scatter(test_data, test_label, c='g', label='Testing Data')\n",
    "    if predictions is not None:\n",
    "        plt.scatter(test_data, predictions, c='r', label='Predictions')\n",
    "    plt.legend(prop={'size':14})"
   ]
  },
  {
   "cell_type": "code",
   "execution_count": 12,
   "id": "e3ab6b43",
   "metadata": {},
   "outputs": [
    {
     "data": {
      "image/png": "[encoded data removed]",
      "text/plain": [
       "<Figure size 1000x700 with 1 Axes>"
      ]
     },
     "metadata": {},
     "output_type": "display_data"
    }
   ],
   "source": [
    "plot_predictions()"
   ]
  },
  {
   "cell_type": "code",
   "execution_count": 13,
   "id": "90eed67a",
   "metadata": {},
   "outputs": [],
   "source": [
    "class LinearRegressionModel(nn.Module):\n",
    "    def __init__(self):\n",
    "        super().__init__()\n",
    "        self.weights = nn.Parameter(torch.randn(1, requires_grad=True, dtype=float))\n",
    "        self.bias = nn.Parameter(torch.randn(1, requires_grad=True, dtype=float))\n",
    "    def forward(self, x: torch.Tensor) -> torch.Tensor:\n",
    "        return self.weights * x + self.bias"
   ]
  },
  {
   "cell_type": "code",
   "execution_count": 14,
   "id": "e834d0e3",
   "metadata": {},
   "outputs": [
    {
     "data": {
      "text/plain": [
       "LinearRegressionModel()"
      ]
     },
     "execution_count": 14,
     "metadata": {},
     "output_type": "execute_result"
    }
   ],
   "source": [
    "torch.manual_seed(42)\n",
    "\n",
    "model_0 = LinearRegressionModel()\n",
    "model_0"
   ]
  },
  {
   "cell_type": "code",
   "execution_count": 15,
   "id": "34d14cc3",
   "metadata": {},
   "outputs": [
    {
     "data": {
      "text/plain": [
       "OrderedDict([('weights', tensor([0.3367], dtype=torch.float64)),\n",
       "             ('bias', tensor([0.1288], dtype=torch.float64))])"
      ]
     },
     "execution_count": 15,
     "metadata": {},
     "output_type": "execute_result"
    }
   ],
   "source": [
    "model_0.state_dict()"
   ]
  },
  {
   "cell_type": "code",
   "execution_count": 16,
   "id": "e2f5b74f",
   "metadata": {},
   "outputs": [
    {
     "data": {
      "text/plain": [
       "(0.7, 0.3)"
      ]
     },
     "execution_count": 16,
     "metadata": {},
     "output_type": "execute_result"
    }
   ],
   "source": [
    "weight, bias"
   ]
  },
  {
   "cell_type": "code",
   "execution_count": 18,
   "id": "8c4b286e",
   "metadata": {},
   "outputs": [
    {
     "data": {
      "text/plain": [
       "tensor([[0.3982],\n",
       "        [0.4049],\n",
       "        [0.4116],\n",
       "        [0.4184],\n",
       "        [0.4251],\n",
       "        [0.4318],\n",
       "        [0.4386],\n",
       "        [0.4453],\n",
       "        [0.4520],\n",
       "        [0.4588]], dtype=torch.float64)"
      ]
     },
     "execution_count": 18,
     "metadata": {},
     "output_type": "execute_result"
    }
   ],
   "source": [
    "with torch.inference_mode():\n",
    "    y_pred = model_0(X_test)\n",
    "\n",
    "y_pred"
   ]
  },
  {
   "cell_type": "code",
   "execution_count": 21,
   "id": "7b7ed204",
   "metadata": {},
   "outputs": [
    {
     "data": {
      "text/plain": [
       "tensor([[0.8600],\n",
       "        [0.8740],\n",
       "        [0.8880],\n",
       "        [0.9020],\n",
       "        [0.9160],\n",
       "        [0.9300],\n",
       "        [0.9440],\n",
       "        [0.9580],\n",
       "        [0.9720],\n",
       "        [0.9860]])"
      ]
     },
     "execution_count": 21,
     "metadata": {},
     "output_type": "execute_result"
    }
   ],
   "source": [
    "y_test"
   ]
  },
  {
   "cell_type": "code",
   "execution_count": 20,
   "id": "e46b9221",
   "metadata": {},
   "outputs": [
    {
     "data": {
      "image/png": "[encoded data removed]",
      "text/plain": [
       "<Figure size 1000x700 with 1 Axes>"
      ]
     },
     "metadata": {},
     "output_type": "display_data"
    }
   ],
   "source": [
    "plot_predictions(predictions=y_pred)"
   ]
  },
  {
   "cell_type": "code",
   "execution_count": 25,
   "id": "ab073c12",
   "metadata": {},
   "outputs": [
    {
     "data": {
      "text/plain": [
       "L1Loss()"
      ]
     },
     "execution_count": 25,
     "metadata": {},
     "output_type": "execute_result"
    }
   ],
   "source": [
    "loss_fn = torch.nn.L1Loss()\n",
    "loss_fn"
   ]
  },
  {
   "cell_type": "code",
   "execution_count": 26,
   "id": "4d6e9fff",
   "metadata": {},
   "outputs": [
    {
     "data": {
      "text/plain": [
       "SGD (\n",
       "Parameter Group 0\n",
       "    dampening: 0\n",
       "    differentiable: False\n",
       "    foreach: None\n",
       "    fused: None\n",
       "    lr: 0.1\n",
       "    maximize: False\n",
       "    momentum: 0\n",
       "    nesterov: False\n",
       "    weight_decay: 0\n",
       ")"
      ]
     },
     "execution_count": 26,
     "metadata": {},
     "output_type": "execute_result"
    }
   ],
   "source": [
    "optimizer = torch.optim.SGD(model_0.parameters(), lr=0.1)\n",
    "optimizer"
   ]
  },
  {
   "cell_type": "code",
   "execution_count": 28,
   "id": "261c9f16",
   "metadata": {},
   "outputs": [
    {
     "name": "stdout",
     "output_type": "stream",
     "text": [
      "Loss is 0.3128813589875055\n",
      "OrderedDict([('weights', tensor([0.3757], dtype=torch.float64)), ('bias', tensor([0.2288], dtype=torch.float64))])\n",
      "Loss is 0.19767135908630024\n",
      "OrderedDict([('weights', tensor([0.4147], dtype=torch.float64)), ('bias', tensor([0.3288], dtype=torch.float64))])\n",
      "Loss is 0.08682453331835696\n",
      "OrderedDict([('weights', tensor([0.4522], dtype=torch.float64)), ('bias', tensor([0.3988], dtype=torch.float64))])\n",
      "Loss is 0.04956193124898571\n",
      "OrderedDict([('weights', tensor([0.4722], dtype=torch.float64)), ('bias', tensor([0.3988], dtype=torch.float64))])\n",
      "Loss is 0.046102675453551345\n",
      "OrderedDict([('weights', tensor([0.4881], dtype=torch.float64)), ('bias', tensor([0.3888], dtype=torch.float64))])\n",
      "Loss is 0.04258420636595216\n",
      "OrderedDict([('weights', tensor([0.5061], dtype=torch.float64)), ('bias', tensor([0.3838], dtype=torch.float64))])\n",
      "Loss is 0.0392125752944114\n",
      "OrderedDict([('weights', tensor([0.5220], dtype=torch.float64)), ('bias', tensor([0.3738], dtype=torch.float64))])\n",
      "Loss is 0.035732206167446344\n",
      "OrderedDict([('weights', tensor([0.5400], dtype=torch.float64)), ('bias', tensor([0.3688], dtype=torch.float64))])\n",
      "Loss is 0.03232247513527148\n",
      "OrderedDict([('weights', tensor([0.5559], dtype=torch.float64)), ('bias', tensor([0.3588], dtype=torch.float64))])\n",
      "Loss is 0.028880205968940514\n",
      "OrderedDict([('weights', tensor([0.5739], dtype=torch.float64)), ('bias', tensor([0.3538], dtype=torch.float64))])\n",
      "Loss is 0.025432374976131534\n",
      "OrderedDict([('weights', tensor([0.5898], dtype=torch.float64)), ('bias', tensor([0.3438], dtype=torch.float64))])\n",
      "Loss is 0.02204193035968441\n",
      "OrderedDict([('weights', tensor([0.6098], dtype=torch.float64)), ('bias', tensor([0.3438], dtype=torch.float64))])\n",
      "Loss is 0.019071217220223376\n",
      "OrderedDict([('weights', tensor([0.6188], dtype=torch.float64)), ('bias', tensor([0.3188], dtype=torch.float64))])\n",
      "Loss is 0.018788161465492906\n",
      "OrderedDict([('weights', tensor([0.6512], dtype=torch.float64)), ('bias', tensor([0.3588], dtype=torch.float64))])\n",
      "Loss is 0.039773641570133106\n",
      "OrderedDict([('weights', tensor([0.6122], dtype=torch.float64)), ('bias', tensor([0.2588], dtype=torch.float64))])\n",
      "Loss is 0.07543635833107218\n",
      "OrderedDict([('weights', tensor([0.6512], dtype=torch.float64)), ('bias', tensor([0.3588], dtype=torch.float64))])\n",
      "Loss is 0.039773641570133106\n",
      "OrderedDict([('weights', tensor([0.6122], dtype=torch.float64)), ('bias', tensor([0.2588], dtype=torch.float64))])\n",
      "Loss is 0.07543635833107218\n",
      "OrderedDict([('weights', tensor([0.6512], dtype=torch.float64)), ('bias', tensor([0.3588], dtype=torch.float64))])\n",
      "Loss is 0.039773641570133106\n",
      "OrderedDict([('weights', tensor([0.6122], dtype=torch.float64)), ('bias', tensor([0.2588], dtype=torch.float64))])\n",
      "Loss is 0.07543635833107218\n",
      "OrderedDict([('weights', tensor([0.6512], dtype=torch.float64)), ('bias', tensor([0.3588], dtype=torch.float64))])\n",
      "Loss is 0.039773641570133106\n",
      "OrderedDict([('weights', tensor([0.6122], dtype=torch.float64)), ('bias', tensor([0.2588], dtype=torch.float64))])\n",
      "Loss is 0.07543635833107218\n",
      "OrderedDict([('weights', tensor([0.6512], dtype=torch.float64)), ('bias', tensor([0.3588], dtype=torch.float64))])\n",
      "Loss is 0.039773641570133106\n",
      "OrderedDict([('weights', tensor([0.6122], dtype=torch.float64)), ('bias', tensor([0.2588], dtype=torch.float64))])\n",
      "Loss is 0.07543635833107218\n",
      "OrderedDict([('weights', tensor([0.6512], dtype=torch.float64)), ('bias', tensor([0.3588], dtype=torch.float64))])\n",
      "Loss is 0.039773641570133106\n",
      "OrderedDict([('weights', tensor([0.6122], dtype=torch.float64)), ('bias', tensor([0.2588], dtype=torch.float64))])\n",
      "Loss is 0.07543635833107218\n",
      "OrderedDict([('weights', tensor([0.6512], dtype=torch.float64)), ('bias', tensor([0.3588], dtype=torch.float64))])\n",
      "Loss is 0.039773641570133106\n",
      "OrderedDict([('weights', tensor([0.6122], dtype=torch.float64)), ('bias', tensor([0.2588], dtype=torch.float64))])\n",
      "Loss is 0.07543635833107218\n",
      "OrderedDict([('weights', tensor([0.6512], dtype=torch.float64)), ('bias', tensor([0.3588], dtype=torch.float64))])\n",
      "Loss is 0.039773641570133106\n",
      "OrderedDict([('weights', tensor([0.6122], dtype=torch.float64)), ('bias', tensor([0.2588], dtype=torch.float64))])\n",
      "Loss is 0.07543635833107218\n",
      "OrderedDict([('weights', tensor([0.6512], dtype=torch.float64)), ('bias', tensor([0.3588], dtype=torch.float64))])\n",
      "Loss is 0.039773641570133106\n",
      "OrderedDict([('weights', tensor([0.6122], dtype=torch.float64)), ('bias', tensor([0.2588], dtype=torch.float64))])\n",
      "Loss is 0.07543635833107218\n",
      "OrderedDict([('weights', tensor([0.6512], dtype=torch.float64)), ('bias', tensor([0.3588], dtype=torch.float64))])\n",
      "Loss is 0.039773641570133106\n",
      "OrderedDict([('weights', tensor([0.6122], dtype=torch.float64)), ('bias', tensor([0.2588], dtype=torch.float64))])\n",
      "Loss is 0.07543635833107218\n",
      "OrderedDict([('weights', tensor([0.6512], dtype=torch.float64)), ('bias', tensor([0.3588], dtype=torch.float64))])\n",
      "Loss is 0.039773641570133106\n",
      "OrderedDict([('weights', tensor([0.6122], dtype=torch.float64)), ('bias', tensor([0.2588], dtype=torch.float64))])\n",
      "Loss is 0.07543635833107218\n",
      "OrderedDict([('weights', tensor([0.6512], dtype=torch.float64)), ('bias', tensor([0.3588], dtype=torch.float64))])\n",
      "Loss is 0.039773641570133106\n",
      "OrderedDict([('weights', tensor([0.6122], dtype=torch.float64)), ('bias', tensor([0.2588], dtype=torch.float64))])\n",
      "Loss is 0.07543635833107218\n",
      "OrderedDict([('weights', tensor([0.6512], dtype=torch.float64)), ('bias', tensor([0.3588], dtype=torch.float64))])\n",
      "Loss is 0.039773641570133106\n",
      "OrderedDict([('weights', tensor([0.6122], dtype=torch.float64)), ('bias', tensor([0.2588], dtype=torch.float64))])\n",
      "Loss is 0.07543635833107218\n",
      "OrderedDict([('weights', tensor([0.6512], dtype=torch.float64)), ('bias', tensor([0.3588], dtype=torch.float64))])\n",
      "Loss is 0.039773641570133106\n",
      "OrderedDict([('weights', tensor([0.6122], dtype=torch.float64)), ('bias', tensor([0.2588], dtype=torch.float64))])\n",
      "Loss is 0.07543635833107218\n",
      "OrderedDict([('weights', tensor([0.6512], dtype=torch.float64)), ('bias', tensor([0.3588], dtype=torch.float64))])\n",
      "Loss is 0.039773641570133106\n",
      "OrderedDict([('weights', tensor([0.6122], dtype=torch.float64)), ('bias', tensor([0.2588], dtype=torch.float64))])\n",
      "Loss is 0.07543635833107218\n",
      "OrderedDict([('weights', tensor([0.6512], dtype=torch.float64)), ('bias', tensor([0.3588], dtype=torch.float64))])\n",
      "Loss is 0.039773641570133106\n",
      "OrderedDict([('weights', tensor([0.6122], dtype=torch.float64)), ('bias', tensor([0.2588], dtype=torch.float64))])\n",
      "Loss is 0.07543635833107218\n",
      "OrderedDict([('weights', tensor([0.6512], dtype=torch.float64)), ('bias', tensor([0.3588], dtype=torch.float64))])\n",
      "Loss is 0.039773641570133106\n",
      "OrderedDict([('weights', tensor([0.6122], dtype=torch.float64)), ('bias', tensor([0.2588], dtype=torch.float64))])\n",
      "Loss is 0.07543635833107218\n",
      "OrderedDict([('weights', tensor([0.6512], dtype=torch.float64)), ('bias', tensor([0.3588], dtype=torch.float64))])\n",
      "Loss is 0.039773641570133106\n",
      "OrderedDict([('weights', tensor([0.6122], dtype=torch.float64)), ('bias', tensor([0.2588], dtype=torch.float64))])\n",
      "Loss is 0.07543635833107218\n",
      "OrderedDict([('weights', tensor([0.6512], dtype=torch.float64)), ('bias', tensor([0.3588], dtype=torch.float64))])\n",
      "Loss is 0.039773641570133106\n",
      "OrderedDict([('weights', tensor([0.6122], dtype=torch.float64)), ('bias', tensor([0.2588], dtype=torch.float64))])\n",
      "Loss is 0.07543635833107218\n",
      "OrderedDict([('weights', tensor([0.6512], dtype=torch.float64)), ('bias', tensor([0.3588], dtype=torch.float64))])\n",
      "Loss is 0.039773641570133106\n",
      "OrderedDict([('weights', tensor([0.6122], dtype=torch.float64)), ('bias', tensor([0.2588], dtype=torch.float64))])\n",
      "Loss is 0.07543635833107218\n",
      "OrderedDict([('weights', tensor([0.6512], dtype=torch.float64)), ('bias', tensor([0.3588], dtype=torch.float64))])\n",
      "Loss is 0.039773641570133106\n",
      "OrderedDict([('weights', tensor([0.6122], dtype=torch.float64)), ('bias', tensor([0.2588], dtype=torch.float64))])\n",
      "Loss is 0.07543635833107218\n",
      "OrderedDict([('weights', tensor([0.6512], dtype=torch.float64)), ('bias', tensor([0.3588], dtype=torch.float64))])\n",
      "Loss is 0.039773641570133106\n",
      "OrderedDict([('weights', tensor([0.6122], dtype=torch.float64)), ('bias', tensor([0.2588], dtype=torch.float64))])\n",
      "Loss is 0.07543635833107218\n",
      "OrderedDict([('weights', tensor([0.6512], dtype=torch.float64)), ('bias', tensor([0.3588], dtype=torch.float64))])\n",
      "Loss is 0.039773641570133106\n",
      "OrderedDict([('weights', tensor([0.6122], dtype=torch.float64)), ('bias', tensor([0.2588], dtype=torch.float64))])\n",
      "Loss is 0.07543635833107218\n",
      "OrderedDict([('weights', tensor([0.6512], dtype=torch.float64)), ('bias', tensor([0.3588], dtype=torch.float64))])\n",
      "Loss is 0.039773641570133106\n",
      "OrderedDict([('weights', tensor([0.6122], dtype=torch.float64)), ('bias', tensor([0.2588], dtype=torch.float64))])\n",
      "Loss is 0.07543635833107218\n",
      "OrderedDict([('weights', tensor([0.6512], dtype=torch.float64)), ('bias', tensor([0.3588], dtype=torch.float64))])\n",
      "Loss is 0.039773641570133106\n",
      "OrderedDict([('weights', tensor([0.6122], dtype=torch.float64)), ('bias', tensor([0.2588], dtype=torch.float64))])\n",
      "Loss is 0.07543635833107218\n",
      "OrderedDict([('weights', tensor([0.6512], dtype=torch.float64)), ('bias', tensor([0.3588], dtype=torch.float64))])\n",
      "Loss is 0.039773641570133106\n",
      "OrderedDict([('weights', tensor([0.6122], dtype=torch.float64)), ('bias', tensor([0.2588], dtype=torch.float64))])\n",
      "Loss is 0.07543635833107218\n",
      "OrderedDict([('weights', tensor([0.6512], dtype=torch.float64)), ('bias', tensor([0.3588], dtype=torch.float64))])\n",
      "Loss is 0.039773641570133106\n",
      "OrderedDict([('weights', tensor([0.6122], dtype=torch.float64)), ('bias', tensor([0.2588], dtype=torch.float64))])\n",
      "Loss is 0.07543635833107218\n",
      "OrderedDict([('weights', tensor([0.6512], dtype=torch.float64)), ('bias', tensor([0.3588], dtype=torch.float64))])\n",
      "Loss is 0.039773641570133106\n",
      "OrderedDict([('weights', tensor([0.6122], dtype=torch.float64)), ('bias', tensor([0.2588], dtype=torch.float64))])\n",
      "Loss is 0.07543635833107218\n",
      "OrderedDict([('weights', tensor([0.6512], dtype=torch.float64)), ('bias', tensor([0.3588], dtype=torch.float64))])\n",
      "Loss is 0.039773641570133106\n",
      "OrderedDict([('weights', tensor([0.6122], dtype=torch.float64)), ('bias', tensor([0.2588], dtype=torch.float64))])\n",
      "Loss is 0.07543635833107218\n",
      "OrderedDict([('weights', tensor([0.6512], dtype=torch.float64)), ('bias', tensor([0.3588], dtype=torch.float64))])\n",
      "Loss is 0.039773641570133106\n",
      "OrderedDict([('weights', tensor([0.6122], dtype=torch.float64)), ('bias', tensor([0.2588], dtype=torch.float64))])\n",
      "Loss is 0.07543635833107218\n",
      "OrderedDict([('weights', tensor([0.6512], dtype=torch.float64)), ('bias', tensor([0.3588], dtype=torch.float64))])\n",
      "Loss is 0.039773641570133106\n",
      "OrderedDict([('weights', tensor([0.6122], dtype=torch.float64)), ('bias', tensor([0.2588], dtype=torch.float64))])\n",
      "Loss is 0.07543635833107218\n",
      "OrderedDict([('weights', tensor([0.6512], dtype=torch.float64)), ('bias', tensor([0.3588], dtype=torch.float64))])\n",
      "Loss is 0.039773641570133106\n",
      "OrderedDict([('weights', tensor([0.6122], dtype=torch.float64)), ('bias', tensor([0.2588], dtype=torch.float64))])\n",
      "Loss is 0.07543635833107218\n",
      "OrderedDict([('weights', tensor([0.6512], dtype=torch.float64)), ('bias', tensor([0.3588], dtype=torch.float64))])\n",
      "Loss is 0.039773641570133106\n",
      "OrderedDict([('weights', tensor([0.6122], dtype=torch.float64)), ('bias', tensor([0.2588], dtype=torch.float64))])\n",
      "Loss is 0.07543635833107218\n",
      "OrderedDict([('weights', tensor([0.6512], dtype=torch.float64)), ('bias', tensor([0.3588], dtype=torch.float64))])\n",
      "Loss is 0.039773641570133106\n",
      "OrderedDict([('weights', tensor([0.6122], dtype=torch.float64)), ('bias', tensor([0.2588], dtype=torch.float64))])\n",
      "Loss is 0.07543635833107218\n",
      "OrderedDict([('weights', tensor([0.6512], dtype=torch.float64)), ('bias', tensor([0.3588], dtype=torch.float64))])\n",
      "Loss is 0.039773641570133106\n",
      "OrderedDict([('weights', tensor([0.6122], dtype=torch.float64)), ('bias', tensor([0.2588], dtype=torch.float64))])\n",
      "Loss is 0.07543635833107218\n",
      "OrderedDict([('weights', tensor([0.6512], dtype=torch.float64)), ('bias', tensor([0.3588], dtype=torch.float64))])\n",
      "Loss is 0.039773641570133106\n",
      "OrderedDict([('weights', tensor([0.6122], dtype=torch.float64)), ('bias', tensor([0.2588], dtype=torch.float64))])\n",
      "Loss is 0.07543635833107218\n",
      "OrderedDict([('weights', tensor([0.6512], dtype=torch.float64)), ('bias', tensor([0.3588], dtype=torch.float64))])\n",
      "Loss is 0.039773641570133106\n",
      "OrderedDict([('weights', tensor([0.6122], dtype=torch.float64)), ('bias', tensor([0.2588], dtype=torch.float64))])\n",
      "Loss is 0.07543635833107218\n",
      "OrderedDict([('weights', tensor([0.6512], dtype=torch.float64)), ('bias', tensor([0.3588], dtype=torch.float64))])\n",
      "Loss is 0.039773641570133106\n",
      "OrderedDict([('weights', tensor([0.6122], dtype=torch.float64)), ('bias', tensor([0.2588], dtype=torch.float64))])\n",
      "Loss is 0.07543635833107218\n",
      "OrderedDict([('weights', tensor([0.6512], dtype=torch.float64)), ('bias', tensor([0.3588], dtype=torch.float64))])\n",
      "Loss is 0.039773641570133106\n",
      "OrderedDict([('weights', tensor([0.6122], dtype=torch.float64)), ('bias', tensor([0.2588], dtype=torch.float64))])\n",
      "Loss is 0.07543635833107218\n",
      "OrderedDict([('weights', tensor([0.6512], dtype=torch.float64)), ('bias', tensor([0.3588], dtype=torch.float64))])\n",
      "Loss is 0.039773641570133106\n",
      "OrderedDict([('weights', tensor([0.6122], dtype=torch.float64)), ('bias', tensor([0.2588], dtype=torch.float64))])\n",
      "Loss is 0.07543635833107218\n",
      "OrderedDict([('weights', tensor([0.6512], dtype=torch.float64)), ('bias', tensor([0.3588], dtype=torch.float64))])\n",
      "Loss is 0.039773641570133106\n",
      "OrderedDict([('weights', tensor([0.6122], dtype=torch.float64)), ('bias', tensor([0.2588], dtype=torch.float64))])\n",
      "Loss is 0.07543635833107218\n",
      "OrderedDict([('weights', tensor([0.6512], dtype=torch.float64)), ('bias', tensor([0.3588], dtype=torch.float64))])\n",
      "Loss is 0.039773641570133106\n",
      "OrderedDict([('weights', tensor([0.6122], dtype=torch.float64)), ('bias', tensor([0.2588], dtype=torch.float64))])\n",
      "Loss is 0.07543635833107218\n",
      "OrderedDict([('weights', tensor([0.6512], dtype=torch.float64)), ('bias', tensor([0.3588], dtype=torch.float64))])\n",
      "Loss is 0.039773641570133106\n",
      "OrderedDict([('weights', tensor([0.6122], dtype=torch.float64)), ('bias', tensor([0.2588], dtype=torch.float64))])\n",
      "Loss is 0.07543635833107218\n",
      "OrderedDict([('weights', tensor([0.6512], dtype=torch.float64)), ('bias', tensor([0.3588], dtype=torch.float64))])\n"
     ]
    }
   ],
   "source": [
    "epochs = 100\n",
    "\n",
    "for epoch in range(epochs):\n",
    "    model_0.train()\n",
    "    y_pred = model_0(X_train)\n",
    "    loss = loss_fn(y_pred, y_train)\n",
    "    print(f'Loss is {loss}')\n",
    "    optimizer.zero_grad()\n",
    "    loss.backward()\n",
    "    optimizer.step()\n",
    "    print(model_0.state_dict())"
   ]
  },
  {
   "cell_type": "code",
   "execution_count": 29,
   "id": "0e4e788b",
   "metadata": {},
   "outputs": [
    {
     "name": "stdout",
     "output_type": "stream",
     "text": [
      "tensor([[0.8798],\n",
      "        [0.8928],\n",
      "        [0.9058],\n",
      "        [0.9188],\n",
      "        [0.9319],\n",
      "        [0.9449],\n",
      "        [0.9579],\n",
      "        [0.9709],\n",
      "        [0.9840],\n",
      "        [0.9970]], dtype=torch.float64)\n"
     ]
    }
   ],
   "source": [
    "with torch.inference_mode():\n",
    "    y_pred_new = model_0(X_test)\n",
    "\n",
    "print(y_pred_new)"
   ]
  },
  {
   "cell_type": "code",
   "execution_count": 30,
   "id": "49e2cacc",
   "metadata": {},
   "outputs": [
    {
     "data": {
      "image/png": "[encoded data removed]",
      "text/plain": [
       "<Figure size 1000x700 with 1 Axes>"
      ]
     },
     "metadata": {},
     "output_type": "display_data"
    }
   ],
   "source": [
    "plot_predictions(predictions=y_pred_new)"
   ]
  }
 ],
 "metadata": {
  "kernelspec": {
   "display_name": "ai",
   "language": "python",
   "name": "python3"
  },
  "language_info": {
   "codemirror_mode": {
    "name": "ipython",
    "version": 3
   },
   "file_extension": ".py",
   "mimetype": "text/x-python",
   "name": "python",
   "nbconvert_exporter": "python",
   "pygments_lexer": "ipython3",
   "version": "3.11.13"
  }
 },
 "nbformat": 4,
 "nbformat_minor": 5
}
